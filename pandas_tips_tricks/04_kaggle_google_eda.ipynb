{
 "cells": [
  {
   "cell_type": "markdown",
   "metadata": {},
   "source": [
    "# Google App Store EDA"
   ]
  },
  {
   "cell_type": "markdown",
   "metadata": {},
   "source": [
    "# Assignment: \n",
    "1. Download the data\n",
    "2. Extract data from zip file\n",
    "3. read the data into python pandas\n",
    "4. check each column \n",
    "5. Define each column in MD style"
   ]
  },
  {
   "cell_type": "code",
   "execution_count": 1,
   "metadata": {},
   "outputs": [
    {
     "ename": "ModuleNotFoundError",
     "evalue": "No module named 'ydata_profiling'",
     "output_type": "error",
     "traceback": [
      "\u001b[1;31m---------------------------------------------------------------------------\u001b[0m",
      "\u001b[1;31mModuleNotFoundError\u001b[0m                       Traceback (most recent call last)",
      "\u001b[1;32mHome\\Desktop\\python_for_data_science\\pandas_tips_tricks\\04_kaggle_google_eda.ipynb Cell 3\u001b[0m line \u001b[0;36m3\n\u001b[0;32m      <a href='vscode-notebook-cell://mac/Home/Desktop/python_for_data_science/pandas_tips_tricks/04_kaggle_google_eda.ipynb#W2sZmlsZQ%3D%3D?line=0'>1</a>\u001b[0m \u001b[39m# import libraries\u001b[39;00m\n\u001b[0;32m      <a href='vscode-notebook-cell://mac/Home/Desktop/python_for_data_science/pandas_tips_tricks/04_kaggle_google_eda.ipynb#W2sZmlsZQ%3D%3D?line=1'>2</a>\u001b[0m \u001b[39mimport\u001b[39;00m \u001b[39mpandas\u001b[39;00m \u001b[39mas\u001b[39;00m \u001b[39mpd\u001b[39;00m\n\u001b[1;32m----> <a href='vscode-notebook-cell://mac/Home/Desktop/python_for_data_science/pandas_tips_tricks/04_kaggle_google_eda.ipynb#W2sZmlsZQ%3D%3D?line=2'>3</a>\u001b[0m \u001b[39mimport\u001b[39;00m \u001b[39mydata_profiling\u001b[39;00m \u001b[39mas\u001b[39;00m \u001b[39myd\u001b[39;00m\n",
      "\u001b[1;31mModuleNotFoundError\u001b[0m: No module named 'ydata_profiling'"
     ]
    }
   ],
   "source": [
    "# import libraries\n",
    "import pandas as pd\n"
   ]
  },
  {
   "cell_type": "code",
   "execution_count": 2,
   "metadata": {},
   "outputs": [],
   "source": [
    "# data import\n",
    "df = pd.read_csv('./data/googleplaystore.csv')"
   ]
  },
  {
   "cell_type": "code",
   "execution_count": 4,
   "metadata": {},
   "outputs": [
    {
     "name": "stderr",
     "output_type": "stream",
     "text": [
      "Summarize dataset: 100%|██████████| 27/27 [00:03<00:00,  7.51it/s, Completed]                      \n",
      "Generate report structure: 100%|██████████| 1/1 [00:07<00:00,  7.66s/it]\n",
      "Render HTML: 100%|██████████| 1/1 [00:00<00:00,  1.02it/s]\n",
      "Export report to file: 100%|██████████| 1/1 [00:00<00:00, 77.75it/s]\n"
     ]
    }
   ],
   "source": [
    "# run automatic eda using ydata-profiling library\n",
    "# import ydata_profiling as yd\n",
    "# profile = yd.ProfileReport(df)\n",
    "# profile.to_file(output_file='./outputs/04_ydata_googleplaystore_kaggle.html')"
   ]
  }
 ],
 "metadata": {
  "kernelspec": {
   "display_name": "python_eda",
   "language": "python",
   "name": "python3"
  },
  "language_info": {
   "codemirror_mode": {
    "name": "ipython",
    "version": 3
   },
   "file_extension": ".py",
   "mimetype": "text/x-python",
   "name": "python",
   "nbconvert_exporter": "python",
   "pygments_lexer": "ipython3",
   "version": "3.11.6"
  }
 },
 "nbformat": 4,
 "nbformat_minor": 2
}
