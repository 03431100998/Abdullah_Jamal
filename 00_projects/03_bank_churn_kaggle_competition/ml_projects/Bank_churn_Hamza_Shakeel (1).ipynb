{
 "cells": [
  {
   "cell_type": "markdown",
   "metadata": {},
   "source": [
    "# **`Bank Churn Analysis 🏛️`**\n",
    "\n",
    "### **A Data Detective's Tale: 🕵️‍♂️**\n",
    "Embark on this investigative journey through the ledgers and accounts, where figures whisper secrets and categories reveal motives. Prepare for a deep dive into the heart of banking data, where every transaction is a piece of the puzzle, and every anomaly could be the key to solving the mystery. 🕵️‍♂️✨\n",
    "\n",
    "<img src=\"./data/bank.png\" alt=\"Cover Photo\" width=\"600\" height=\"600\"/>\n",
    "\n",
    "---\n",
    "\n"
   ]
  },
  {
   "cell_type": "markdown",
   "metadata": {},
   "source": [
    "## `About Author:`\n",
    "\n",
    "\n",
    "- Name: Hamza Shakeel\n",
    "- LinkedIn: https://www.linkedin.com/in/hamza-shakeel-xdyyy/\n",
    "- Email: hamzashakeel3214@gmail.com\n",
    "- Kaggle: https://www.kaggle.com/hamzashakeel30\n",
    "\n",
    "---"
   ]
  },
  {
   "cell_type": "markdown",
   "metadata": {},
   "source": [
    "## **Introduction**\n",
    "\n",
    "**Context:**\n",
    "In the competitive environment of the banking industry, customer retention is crucial. Understanding the factors that lead to customer churn can help in developing effective strategies to retain clients. This analysis aims to uncover insights into customer behavior and predict potential churn, providing actionable recommendations to decrease the churn rate.\n",
    "\n",
    "**Dataset Description:**\n",
    "The Bank Churn dataset typically contains details about a bank's customers and indicates whether they have left the bank (churned) or not. This information is crucial for the bank to understand the factors leading to customer attrition and devise strategies to improve customer retention.\n"
   ]
  },
  {
   "cell_type": "markdown",
   "metadata": {},
   "source": [
    "#  **Objectives:**\n",
    "\n",
    "- Perform an in-depth analysis of the dataset to understand the characteristics of bank customers.\n",
    "- Identify the key drivers of customer churn.\n",
    "- Provide actionable insights and recommendations to reduce customer churn based on the analysis.\n",
    "- I will train following models to predict the customer churn:\n",
    "    - Decision Tree\n",
    "    - Random Forest\n",
    "    - XGBoost\n",
    "    "
   ]
  },
  {
   "cell_type": "markdown",
   "metadata": {},
   "source": [
    "# **Dataset Overview:**\n",
    "The dataset includes various details about bank customers, such as personal information, financial behaviors, and whether or not they have exited the bank (churned). This exploratory data analysis (EDA) aims to understand the factors that contribute to customer churn and identify patterns and relationships within the data."
   ]
  },
  {
   "cell_type": "markdown",
   "metadata": {},
   "source": [
    "# `Data Description:`\n",
    "\n",
    "- id: A unique identifier for each record. 🔍\n",
    "\n",
    "- CustomerId: Unique identifier for the customer. 🆔\n",
    "\n",
    "- Surname: Last name of the customer. 📛\n",
    "\n",
    "- CreditScore: The credit score of the customer. 💳\n",
    "\n",
    "- Geography: The country of the customer. 🌍\n",
    "\n",
    "- Gender: The gender of the customer. 👤\n",
    "\n",
    "- Age: The age of the customer. 🎂\n",
    "\n",
    "- Tenure: Number of years the customer has been with the bank. ⏳\n",
    "\n",
    "- Balance: Bank balance of the customer. 💰\n",
    "\n",
    "- NumOfProducts: Number of bank products the customer is using. 🏦\n",
    "\n",
    "- HasCrCard: Indicates whether the customer has a credit card (1) or not (0). 💳\n",
    "\n",
    "- IsActiveMember: Indicates whether the customer is an active member (1) or not (0). 💡\n",
    "\n",
    "- EstimatedSalary: Estimated salary of the customer. 💵\n",
    "\n",
    "- Exited: Indicates whether the customer has churned (1) or not (0). 🚪"
   ]
  },
  {
   "cell_type": "markdown",
   "metadata": {},
   "source": [
    "## **1. Data Acquisition & Understanding the Scene** 🧐🕵️\n",
    "\n",
    "First, we need to import the libraries and load the dataset and familiarize ourselves with it's basic structure.\n",
    "We'll check the top rows, understand the types of data we're dealing with, and identify our primary suspects (variables). "
   ]
  },
  {
   "cell_type": "markdown",
   "metadata": {},
   "source": [
    "- **Importing the libraries we'll be using for this analysis.**"
   ]
  },
  {
   "cell_type": "code",
   "execution_count": 506,
   "metadata": {},
   "outputs": [],
   "source": [
    "# Import libraries\n",
    "import pandas as pd\n",
    "import numpy as np\n",
    "import matplotlib.pyplot as plt\n",
    "import seaborn as sns\n",
    "\n",
    "# To preprocess the data\n",
    "from sklearn.preprocessing import StandardScaler, MinMaxScaler, LabelEncoder\n",
    "\n",
    "# machine learning\n",
    "from sklearn.model_selection import train_test_split\n",
    "\n",
    "#for classification tasks\n",
    "from sklearn.tree import DecisionTreeClassifier\n",
    "from sklearn.ensemble import RandomForestClassifier\n",
    "from xgboost import XGBClassifier\n",
    "#metrics\n",
    "from sklearn.metrics import accuracy_score, precision_score ,f1_score, recall_score, confusion_matrix, classification_report\n",
    "\n",
    "#remove warnings\n",
    "import warnings\n",
    "warnings.filterwarnings('ignore')\n"
   ]
  },
  {
   "cell_type": "markdown",
   "metadata": {},
   "source": [
    "- **Loading the dataset and checking the top 7 rows.**"
   ]
  },
  {
   "cell_type": "code",
   "execution_count": 507,
   "metadata": {},
   "outputs": [
    {
     "data": {
      "text/html": [
       "<div>\n",
       "<style scoped>\n",
       "    .dataframe tbody tr th:only-of-type {\n",
       "        vertical-align: middle;\n",
       "    }\n",
       "\n",
       "    .dataframe tbody tr th {\n",
       "        vertical-align: top;\n",
       "    }\n",
       "\n",
       "    .dataframe thead th {\n",
       "        text-align: right;\n",
       "    }\n",
       "</style>\n",
       "<table border=\"1\" class=\"dataframe\">\n",
       "  <thead>\n",
       "    <tr style=\"text-align: right;\">\n",
       "      <th></th>\n",
       "      <th>id</th>\n",
       "      <th>CustomerId</th>\n",
       "      <th>Surname</th>\n",
       "      <th>CreditScore</th>\n",
       "      <th>Geography</th>\n",
       "      <th>Gender</th>\n",
       "      <th>Age</th>\n",
       "      <th>Tenure</th>\n",
       "      <th>Balance</th>\n",
       "      <th>NumOfProducts</th>\n",
       "      <th>HasCrCard</th>\n",
       "      <th>IsActiveMember</th>\n",
       "      <th>EstimatedSalary</th>\n",
       "      <th>Exited</th>\n",
       "    </tr>\n",
       "  </thead>\n",
       "  <tbody>\n",
       "    <tr>\n",
       "      <th>0</th>\n",
       "      <td>0</td>\n",
       "      <td>15674932</td>\n",
       "      <td>Okwudilichukwu</td>\n",
       "      <td>668</td>\n",
       "      <td>France</td>\n",
       "      <td>Male</td>\n",
       "      <td>33.0</td>\n",
       "      <td>3</td>\n",
       "      <td>0.00</td>\n",
       "      <td>2</td>\n",
       "      <td>1.0</td>\n",
       "      <td>0.0</td>\n",
       "      <td>181449.97</td>\n",
       "      <td>0</td>\n",
       "    </tr>\n",
       "    <tr>\n",
       "      <th>1</th>\n",
       "      <td>1</td>\n",
       "      <td>15749177</td>\n",
       "      <td>Okwudiliolisa</td>\n",
       "      <td>627</td>\n",
       "      <td>France</td>\n",
       "      <td>Male</td>\n",
       "      <td>33.0</td>\n",
       "      <td>1</td>\n",
       "      <td>0.00</td>\n",
       "      <td>2</td>\n",
       "      <td>1.0</td>\n",
       "      <td>1.0</td>\n",
       "      <td>49503.50</td>\n",
       "      <td>0</td>\n",
       "    </tr>\n",
       "    <tr>\n",
       "      <th>2</th>\n",
       "      <td>2</td>\n",
       "      <td>15694510</td>\n",
       "      <td>Hsueh</td>\n",
       "      <td>678</td>\n",
       "      <td>France</td>\n",
       "      <td>Male</td>\n",
       "      <td>40.0</td>\n",
       "      <td>10</td>\n",
       "      <td>0.00</td>\n",
       "      <td>2</td>\n",
       "      <td>1.0</td>\n",
       "      <td>0.0</td>\n",
       "      <td>184866.69</td>\n",
       "      <td>0</td>\n",
       "    </tr>\n",
       "    <tr>\n",
       "      <th>3</th>\n",
       "      <td>3</td>\n",
       "      <td>15741417</td>\n",
       "      <td>Kao</td>\n",
       "      <td>581</td>\n",
       "      <td>France</td>\n",
       "      <td>Male</td>\n",
       "      <td>34.0</td>\n",
       "      <td>2</td>\n",
       "      <td>148882.54</td>\n",
       "      <td>1</td>\n",
       "      <td>1.0</td>\n",
       "      <td>1.0</td>\n",
       "      <td>84560.88</td>\n",
       "      <td>0</td>\n",
       "    </tr>\n",
       "    <tr>\n",
       "      <th>4</th>\n",
       "      <td>4</td>\n",
       "      <td>15766172</td>\n",
       "      <td>Chiemenam</td>\n",
       "      <td>716</td>\n",
       "      <td>Spain</td>\n",
       "      <td>Male</td>\n",
       "      <td>33.0</td>\n",
       "      <td>5</td>\n",
       "      <td>0.00</td>\n",
       "      <td>2</td>\n",
       "      <td>1.0</td>\n",
       "      <td>1.0</td>\n",
       "      <td>15068.83</td>\n",
       "      <td>0</td>\n",
       "    </tr>\n",
       "    <tr>\n",
       "      <th>5</th>\n",
       "      <td>5</td>\n",
       "      <td>15771669</td>\n",
       "      <td>Genovese</td>\n",
       "      <td>588</td>\n",
       "      <td>Germany</td>\n",
       "      <td>Male</td>\n",
       "      <td>36.0</td>\n",
       "      <td>4</td>\n",
       "      <td>131778.58</td>\n",
       "      <td>1</td>\n",
       "      <td>1.0</td>\n",
       "      <td>0.0</td>\n",
       "      <td>136024.31</td>\n",
       "      <td>1</td>\n",
       "    </tr>\n",
       "    <tr>\n",
       "      <th>6</th>\n",
       "      <td>6</td>\n",
       "      <td>15692819</td>\n",
       "      <td>Ch'ang</td>\n",
       "      <td>593</td>\n",
       "      <td>France</td>\n",
       "      <td>Female</td>\n",
       "      <td>30.0</td>\n",
       "      <td>8</td>\n",
       "      <td>144772.69</td>\n",
       "      <td>1</td>\n",
       "      <td>1.0</td>\n",
       "      <td>0.0</td>\n",
       "      <td>29792.11</td>\n",
       "      <td>0</td>\n",
       "    </tr>\n",
       "  </tbody>\n",
       "</table>\n",
       "</div>"
      ],
      "text/plain": [
       "   id  CustomerId         Surname  CreditScore Geography  Gender   Age  \\\n",
       "0   0    15674932  Okwudilichukwu          668    France    Male  33.0   \n",
       "1   1    15749177   Okwudiliolisa          627    France    Male  33.0   \n",
       "2   2    15694510           Hsueh          678    France    Male  40.0   \n",
       "3   3    15741417             Kao          581    France    Male  34.0   \n",
       "4   4    15766172       Chiemenam          716     Spain    Male  33.0   \n",
       "5   5    15771669        Genovese          588   Germany    Male  36.0   \n",
       "6   6    15692819          Ch'ang          593    France  Female  30.0   \n",
       "\n",
       "   Tenure    Balance  NumOfProducts  HasCrCard  IsActiveMember  \\\n",
       "0       3       0.00              2        1.0             0.0   \n",
       "1       1       0.00              2        1.0             1.0   \n",
       "2      10       0.00              2        1.0             0.0   \n",
       "3       2  148882.54              1        1.0             1.0   \n",
       "4       5       0.00              2        1.0             1.0   \n",
       "5       4  131778.58              1        1.0             0.0   \n",
       "6       8  144772.69              1        1.0             0.0   \n",
       "\n",
       "   EstimatedSalary  Exited  \n",
       "0        181449.97       0  \n",
       "1         49503.50       0  \n",
       "2        184866.69       0  \n",
       "3         84560.88       0  \n",
       "4         15068.83       0  \n",
       "5        136024.31       1  \n",
       "6         29792.11       0  "
      ]
     },
     "execution_count": 507,
     "metadata": {},
     "output_type": "execute_result"
    }
   ],
   "source": [
    "# load the data\n",
    "df_train = pd.read_csv('./data/train.csv')\n",
    "df_test = pd.read_csv('./data/test.csv')\n",
    "submission = pd.read_csv('./data/sample_submission.csv')\n",
    "\n",
    "df_train.head(7)"
   ]
  },
  {
   "cell_type": "markdown",
   "metadata": {},
   "source": [
    "#### 📜**The Data's Tale - Deciphering the Dataset's Diary**\n",
    "\n",
    "Once upon a data frame, in the realm of rows and columns, we embark on a quest to acquaint ourselves with the characters of our story—the variables. With the magical spell `df_train.info()`, we shall peer through the pages of this digital diary, understanding the essence of each column, the completeness of every row, and the tale they all weave together. Let's turn the page and begin our journey into the heart of our dataset, where numbers and categories dance in harmony, waiting to narrate their story. 🕵️‍♂️📚✨"
   ]
  },
  {
   "cell_type": "code",
   "execution_count": 508,
   "metadata": {},
   "outputs": [
    {
     "name": "stdout",
     "output_type": "stream",
     "text": [
      "<class 'pandas.core.frame.DataFrame'>\n",
      "RangeIndex: 165034 entries, 0 to 165033\n",
      "Data columns (total 14 columns):\n",
      " #   Column           Non-Null Count   Dtype  \n",
      "---  ------           --------------   -----  \n",
      " 0   id               165034 non-null  int64  \n",
      " 1   CustomerId       165034 non-null  int64  \n",
      " 2   Surname          165034 non-null  object \n",
      " 3   CreditScore      165034 non-null  int64  \n",
      " 4   Geography        165034 non-null  object \n",
      " 5   Gender           165034 non-null  object \n",
      " 6   Age              165034 non-null  float64\n",
      " 7   Tenure           165034 non-null  int64  \n",
      " 8   Balance          165034 non-null  float64\n",
      " 9   NumOfProducts    165034 non-null  int64  \n",
      " 10  HasCrCard        165034 non-null  float64\n",
      " 11  IsActiveMember   165034 non-null  float64\n",
      " 12  EstimatedSalary  165034 non-null  float64\n",
      " 13  Exited           165034 non-null  int64  \n",
      "dtypes: float64(5), int64(6), object(3)\n",
      "memory usage: 17.6+ MB\n"
     ]
    }
   ],
   "source": [
    "df_train.info()"
   ]
  },
  {
   "cell_type": "code",
   "execution_count": 509,
   "metadata": {},
   "outputs": [
    {
     "data": {
      "text/plain": [
       "(165034, 14)"
      ]
     },
     "execution_count": 509,
     "metadata": {},
     "output_type": "execute_result"
    }
   ],
   "source": [
    "df_train.shape"
   ]
  },
  {
   "cell_type": "code",
   "execution_count": 510,
   "metadata": {},
   "outputs": [
    {
     "data": {
      "text/plain": [
       "Index(['id', 'CustomerId', 'Surname', 'CreditScore', 'Geography', 'Gender',\n",
       "       'Age', 'Tenure', 'Balance', 'NumOfProducts', 'HasCrCard',\n",
       "       'IsActiveMember', 'EstimatedSalary', 'Exited'],\n",
       "      dtype='object')"
      ]
     },
     "execution_count": 510,
     "metadata": {},
     "output_type": "execute_result"
    }
   ],
   "source": [
    "df_train.columns"
   ]
  },
  {
   "cell_type": "markdown",
   "metadata": {},
   "source": [
    "---\n",
    "\n",
    "### **🕵️ `Scene Investigation` 🧹**\n",
    "\n",
    "**Dataset Dimensions:**\n",
    "- Our dataset is quite vast, containing `165034 records` (customers) and `14 attributes` (features) each. 📈\n",
    "\n",
    "**Missing Values:**\n",
    "- At first glance, it seems there are no missing values. Our dataset appears neat, but we'll keep a keen eye; appearances can be deceptive. 👀\n",
    "\n",
    "**Data Types:**\n",
    "\n",
    "- We have a mix of data types, including `int64`, `float64`, and `object`. We'll need to convert the categorical variables to numerical for analysis. 📊\n",
    "\n",
    "- Numerical: CreditScore, Age, Tenure, Balance, NumOfProducts, HasCrCard, IsActiveMember, EstimatedSalary, Exited 📊\n",
    "- Categorical: CustomerId, Surname, Geography, Gender 👤\n",
    "- Identifiers: id (Note: Typically, identifiers don't hold meaningful information for analysis) 🔑\n",
    "\n",
    "`Why CustomerId is not a numerical data type?` 🤔\n",
    "\n",
    "- \"CustomerId serves as a unique tag for each customer, not meant for mathematical operations but for distinguishing individual records, akin to a name rather than a number.\" 🆔\n",
    "\n",
    "---\n",
    "\n"
   ]
  },
  {
   "cell_type": "markdown",
   "metadata": {},
   "source": [
    "# **2. Deciphering the Clues - Univariate Analysis** 🕵️\n",
    "\n",
    "### **A Detective's First Look at the Evidence** 🧐\n",
    "\n",
    "- Before we venture into the meticulous mission of data cleaning, let's take a moment to acquaint ourselves with the cast of our narrative \n",
    "— the columns. Each column is a character in our tale, rich with its own background and secrets. We shall embark on a preliminary exploration, a prologue if you will, where we delve into the essence of each column, understanding its role and significance in our dataset's story. 🕵️‍♂️🔍"
   ]
  },
  {
   "cell_type": "markdown",
   "metadata": {},
   "source": [
    "- We'll approach each column with a keen eye, understanding it's story, and listening to what it has to tell us. These are the initial clues in our investigation, the first whispers of the secrets that lie hidden in the numbers and categories. 🕵️‍♂️🔍\n",
    "\n",
    "  So, let's begin our journey, stepping into the shoes of a data detective, unraveling the mysteries one column at a time. Each piece of data is a piece of the puzzle, and it's our job to put them all together. Ready your magnifying glass, for it's time to examine the clues closely before we proceed to clean and polish them in the next chapter. `The adventure of analysis awaits! 🎩✨`"
   ]
  },
  {
   "cell_type": "markdown",
   "metadata": {},
   "source": [
    "## **Clue 1: CreditScore**\n",
    "\n",
    "Let's delve into the first clue: `CreditScore`. This numerical figure is not just a number; it's a narrative about a customer's creditworthiness and financial reliability. High and low scores whisper different tales of fiscal behavior and trust."
   ]
  },
  {
   "cell_type": "code",
   "execution_count": 511,
   "metadata": {},
   "outputs": [
    {
     "name": "stdout",
     "output_type": "stream",
     "text": [
      "Max Credit Score: 850\n",
      "Min Credit Score: 350\n"
     ]
    }
   ],
   "source": [
    "max_credit_score= df_train[\"CreditScore\"].max()\n",
    "min_credit_score= df_train[\"CreditScore\"].min()\n",
    "print(\"Max Credit Score:\",max_credit_score)\n",
    "print(\"Min Credit Score:\",min_credit_score)"
   ]
  },
  {
   "cell_type": "code",
   "execution_count": 512,
   "metadata": {},
   "outputs": [
    {
     "data": {
      "text/plain": [
       "457"
      ]
     },
     "execution_count": 512,
     "metadata": {},
     "output_type": "execute_result"
    }
   ],
   "source": [
    "df_train[\"CreditScore\"].nunique()"
   ]
  },
  {
   "cell_type": "code",
   "execution_count": 513,
   "metadata": {},
   "outputs": [
    {
     "data": {
      "text/plain": [
       "count    165034.000000\n",
       "mean        656.454373\n",
       "std          80.103340\n",
       "min         350.000000\n",
       "25%         597.000000\n",
       "50%         659.000000\n",
       "75%         710.000000\n",
       "max         850.000000\n",
       "Name: CreditScore, dtype: float64"
      ]
     },
     "execution_count": 513,
     "metadata": {},
     "output_type": "execute_result"
    }
   ],
   "source": [
    "# Statistical Summary of 'CreditScore'\n",
    "credit_score_stats = df_train['CreditScore'].describe()\n",
    "credit_score_stats"
   ]
  },
  {
   "cell_type": "markdown",
   "metadata": {},
   "source": [
    "\n",
    "#### **Clue 1: CreditScore - Statistical Observations:**\n",
    "\n",
    "---\n",
    "1. `Count:` The trail of CreditScore is quite extensive, with 165,034 entries.\n",
    "\n",
    "2. `Mean (Average):` The average CreditScore in our dataset is about 656, suggesting a moderately high creditworthiness among the populace.\n",
    "\n",
    "3. `Standard Deviation:` A deviation of approximately 80 indicates variability in the credit scores, hinting at a diverse financial disposition \n",
    "among the customers.\n",
    "\n",
    "4. `Minimum:` The lowest CreditScore recorded is 350, a tale of financial distress or a fledgling credit history\n",
    "\n",
    "5.  `25th Percentile:` At least a quarter of our customers have scores below 597, navigating the lower echelons of creditworthiness.\n",
    "   \n",
    "6. `Median (50th Percentile):` The median score is 659, painting a picture of the typical customer – more than just numbers, it's a balance point in our tale of fiscal trust.\n",
    "\n",
    "7. `75th Percentile:` Climbing to a score of 710, we see the upper quartile where customers are deemed more financially reliable.\n",
    "\n",
    "8. `Maximum:` The peak of creditworthiness hits 850, a score where customers stand as paragons of financial virtue.\n",
    "\n",
    "---"
   ]
  },
  {
   "cell_type": "markdown",
   "metadata": {},
   "source": [
    "#### **Visual Examination**\n",
    "\n",
    "- Next, we'll plot the distribution of CreditScore. This visual plot will help us better understand the distribution and identify any anomalies or patterns in the data."
   ]
  },
  {
   "cell_type": "code",
   "execution_count": 514,
   "metadata": {},
   "outputs": [
    {
     "data": {
      "image/png": "[encoded data removed]",
      "text/plain": [
       "<Figure size 1800x600 with 2 Axes>"
      ]
     },
     "metadata": {},
     "output_type": "display_data"
    }
   ],
   "source": [
    "# Setting a professional color palette\n",
    "sns.set_palette(\"Paired\")\n",
    "\n",
    "# Plotting the histogram and boxplot for 'CreditScore' with the new color palette\n",
    "fig, ax = plt.subplots(1, 2, figsize=(18, 6))\n",
    "\n",
    "# Histogram\n",
    "sns.histplot(df_train['CreditScore'], kde=True, ax=ax[0], color=\"skyblue\")\n",
    "ax[0].set_title('Distribution of Credit Scores', fontsize=15)\n",
    "ax[0].set_xlabel('Credit Score', fontsize=12)\n",
    "ax[0].set_ylabel('Frequency', fontsize=12)\n",
    "\n",
    "# Boxplot\n",
    "sns.boxplot(x=df_train['CreditScore'], ax=ax[1], color=\"lightgreen\")\n",
    "ax[1].set_title('Boxplot of Credit Scores', fontsize=15)\n",
    "ax[1].set_xlabel('Credit Score', fontsize=12)\n",
    "\n",
    "# Display the plots with the professional color palette\n",
    "plt.show()\n"
   ]
  },
  {
   "cell_type": "markdown",
   "metadata": {},
   "source": [
    "#### **Clue 1: CreditScore - Visual Insights:**\n",
    "\n",
    "---\n",
    "\n",
    "**Observation from Distribution of Credit Scores (Histogram):**\n",
    "\n",
    "1. The distribution seems fairly normal, hinting at a balanced financial narrative across our customer base.\n",
    "2. There's a slight left skew, indicating a minor tale of customers with lower credit scores. This tail whispers stories of financial challenges or younger credit histories.\n",
    "\n",
    "**Observation from Boxplot of Credit Scores:**\n",
    "\n",
    "3. The boxplot confirms the presence of a median around 659, consistent with our statistical analysis.\n",
    "4. The whiskers extend to the minimum and maximum scores, and there don't appear to be any significant outliers beyond the typical range of credit scores.\n",
    "\n",
    "**`Key Takeaway:`**\n",
    "The plot thickens as the CreditScore unveils tales of financial reliability and trust. With this insight, we're one step closer to understanding the financial saga of our customers. 🕵️‍♂️🔍\n",
    "\n",
    "---"
   ]
  },
  {
   "cell_type": "markdown",
   "metadata": {},
   "source": [
    "## **Clue 2: Age**\n",
    "\n",
    "Now, we turn our investigative lens towards the second clue: `Age`. This number is not just a figure; it represents the life stage of a customer, potentially influencing their financial behavior and needs."
   ]
  },
  {
   "cell_type": "code",
   "execution_count": 515,
   "metadata": {},
   "outputs": [
    {
     "data": {
      "text/plain": [
       "71"
      ]
     },
     "execution_count": 515,
     "metadata": {},
     "output_type": "execute_result"
    }
   ],
   "source": [
    "df_train[\"Age\"].nunique()"
   ]
  },
  {
   "cell_type": "code",
   "execution_count": 516,
   "metadata": {},
   "outputs": [
    {
     "name": "stdout",
     "output_type": "stream",
     "text": [
      "Max Age: 92.0\n",
      "Min Age: 18.0\n"
     ]
    }
   ],
   "source": [
    "max_age= df_train[\"Age\"].max()\n",
    "min_age= df_train[\"Age\"].min()\n",
    "print(\"Max Age:\",max_age)\n",
    "print(\"Min Age:\",min_age)"
   ]
  },
  {
   "cell_type": "code",
   "execution_count": 517,
   "metadata": {},
   "outputs": [
    {
     "data": {
      "text/plain": [
       "count    165034.000000\n",
       "mean         38.125888\n",
       "std           8.867205\n",
       "min          18.000000\n",
       "25%          32.000000\n",
       "50%          37.000000\n",
       "75%          42.000000\n",
       "max          92.000000\n",
       "Name: Age, dtype: float64"
      ]
     },
     "execution_count": 517,
     "metadata": {},
     "output_type": "execute_result"
    }
   ],
   "source": [
    "# Statistical Summary of 'Age'\n",
    "age_stats = df_train['Age'].describe()\n",
    "age_stats\n"
   ]
  },
  {
   "cell_type": "markdown",
   "metadata": {},
   "source": [
    "#### **Clue 2: Age - Statistical Observations:**\n",
    "---\n",
    "1. `Count:` There are 165,034 records, each narrating a customer's age.\n",
    "\n",
    "2.  `Mean (Average):` The average age is approximately 38.13 years, suggesting a clientele in their prime working age.\n",
    "   \n",
    "3. `Standard Deviation:` With a deviation of about 8.87 years, there's a notable spread in ages, reflecting a diverse customer base.\n",
    "\n",
    "4. `Minimum:` The youngest patron in the dataset is 18 years old, just stepping into the financial world.\n",
    "\n",
    "5. `25th Percentile:` A quarter of the customers are younger than 32 years, representing the younger demographic.\n",
    "\n",
    "6. `Median (50th Percentile):` The median age is 37 years, indicating that half of the customers are younger than this age.\n",
    "\n",
    "7. `75th Percentile:` Climbing to 42 years, we see the more experienced segment of our customer base.\n",
    "\n",
    "8.  `Maximum:` The oldest customer is 92 years old, a testament to a lifetime of financial journeys.\n",
    "\n",
    "---"
   ]
  },
  {
   "cell_type": "markdown",
   "metadata": {},
   "source": [
    "#### **Visual Examination**"
   ]
  },
  {
   "cell_type": "code",
   "execution_count": 518,
   "metadata": {},
   "outputs": [
    {
     "data": {
      "image/png": "[encoded data removed]",
      "text/plain": [
       "<Figure size 1800x600 with 2 Axes>"
      ]
     },
     "metadata": {},
     "output_type": "display_data"
    }
   ],
   "source": [
    "# Plotting the histogram and boxplot for 'Age' with the professional color palette\n",
    "fig, ax = plt.subplots(1, 2, figsize=(18, 6))\n",
    "\n",
    "# Histogram\n",
    "sns.histplot(df_train['Age'], kde=True, ax=ax[0], color=\"skyblue\")\n",
    "ax[0].set_title('Distribution of Ages', fontsize=15)\n",
    "ax[0].set_xlabel('Age', fontsize=12)\n",
    "ax[0].set_ylabel('Frequency', fontsize=12)\n",
    "\n",
    "# Boxplot\n",
    "sns.boxplot(x=df_train['Age'], ax=ax[1], color=\"lightgreen\")\n",
    "ax[1].set_title('Boxplot of Ages', fontsize=15)\n",
    "ax[1].set_xlabel('Age', fontsize=12)\n",
    "\n",
    "# Display the plots with the professional color palette\n",
    "plt.show()\n"
   ]
  },
  {
   "cell_type": "markdown",
   "metadata": {},
   "source": [
    "#### **Clue 2: Age - Visual Insights:**\n",
    "\n",
    "---\n",
    "\n",
    "**Observation from Distribution of Ages (Histogram):**\n",
    "\n",
    "1. The histogram exhibits a right-skewed distribution, indicating a larger number of younger customers compared to older ones.\n",
    "2. The peak is observed in the early to late 30s, aligning with the median age observed in the statistical summary.\n",
    "\n",
    "**Observation from Boxplot of Ages:**\n",
    "\n",
    "3. The boxplot reveals the median around 37 years, consistent with our previous findings.\n",
    "4. The presence of several points beyond the upper whisker suggests potential outliers. These points represent customers significantly older than the majority, hinting at a tale of seasoned financial journeys.\n",
    "\n",
    "**Interpretation of Outliers:**\n",
    "\n",
    "The presence of outliers in the `Age` variable suggests a significant number of customers who are older than the typical customer base. These customers, aged 58 and above, represent a distinct segment, potentially with different financial needs and behaviors compared to the younger cohorts. Their higher age might be indicative of different stages in the financial lifecycle, such as nearing or being in retirement, which could influence their banking and financial decisions.\n",
    "\n",
    "**`Key takeaway:`**\n",
    "\n",
    "The presence of this older segment is non-negligible and could be crucial for certain types of analysis, especially those related to products or services tailored to older individuals.\n",
    "\n",
    "---"
   ]
  },
  {
   "cell_type": "markdown",
   "metadata": {},
   "source": [
    "## **Clue 3: Tenure**\n",
    "\n",
    "We turn our investigative focus towards the third clue: `Tenure`. This numeric variable narrates the duration of the customer's relationship with the bank. It's a tale of loyalty and continuity, where each number carries the weight of commitment and history."
   ]
  },
  {
   "cell_type": "code",
   "execution_count": 519,
   "metadata": {},
   "outputs": [
    {
     "name": "stdout",
     "output_type": "stream",
     "text": [
      "Max Tenure: 10\n",
      "Min Tenure: 0\n"
     ]
    }
   ],
   "source": [
    "max_tenure= df_train[\"Tenure\"].max()\n",
    "min_tenure= df_train[\"Tenure\"].min()\n",
    "print(\"Max Tenure:\",max_tenure)\n",
    "print(\"Min Tenure:\",min_tenure)"
   ]
  },
  {
   "cell_type": "code",
   "execution_count": 520,
   "metadata": {},
   "outputs": [
    {
     "data": {
      "text/plain": [
       "array([ 3,  1, 10,  2,  5,  4,  8,  6,  9,  7,  0], dtype=int64)"
      ]
     },
     "execution_count": 520,
     "metadata": {},
     "output_type": "execute_result"
    }
   ],
   "source": [
    "df_train[\"Tenure\"].unique()"
   ]
  },
  {
   "cell_type": "code",
   "execution_count": 521,
   "metadata": {},
   "outputs": [
    {
     "data": {
      "text/plain": [
       "11"
      ]
     },
     "execution_count": 521,
     "metadata": {},
     "output_type": "execute_result"
    }
   ],
   "source": [
    "df_train[\"Tenure\"].nunique()"
   ]
  },
  {
   "cell_type": "code",
   "execution_count": 522,
   "metadata": {},
   "outputs": [
    {
     "data": {
      "text/plain": [
       "count    165034.000000\n",
       "mean          5.020353\n",
       "std           2.806159\n",
       "min           0.000000\n",
       "25%           3.000000\n",
       "50%           5.000000\n",
       "75%           7.000000\n",
       "max          10.000000\n",
       "Name: Tenure, dtype: float64"
      ]
     },
     "execution_count": 522,
     "metadata": {},
     "output_type": "execute_result"
    }
   ],
   "source": [
    "# Statistical Summary of 'Tenure'\n",
    "tenure_stats = df_train['Tenure'].describe()\n",
    "tenure_stats\n"
   ]
  },
  {
   "cell_type": "code",
   "execution_count": 523,
   "metadata": {},
   "outputs": [
    {
     "name": "stdout",
     "output_type": "stream",
     "text": [
      "Number of customers with 10 years of tenure: 5909\n"
     ]
    }
   ],
   "source": [
    "# 10 years of tenure\n",
    "tenure_10 = df_train[df_train['Tenure'] == 10].shape[0]\n",
    "print('Number of customers with 10 years of tenure:', tenure_10)"
   ]
  },
  {
   "cell_type": "code",
   "execution_count": 524,
   "metadata": {},
   "outputs": [
    {
     "name": "stdout",
     "output_type": "stream",
     "text": [
      "The number of customers with 0 years of tenure: 5007\n"
     ]
    }
   ],
   "source": [
    "# 0 years of tenure\n",
    "tenure_0 = df_train[df_train['Tenure'] == 0].shape[0]\n",
    "print(\"The number of customers with 0 years of tenure:\", tenure_0)"
   ]
  },
  {
   "cell_type": "markdown",
   "metadata": {},
   "source": [
    "#### **Clue 3: Tenure - Statistical Observations:**\n",
    "\n",
    "--- \n",
    "\n",
    "1. `Count:` The dataset contains 165,034 records of customer tenures.\n",
    "\n",
    "2. `Mean (Average):` The average tenure is approximately 5.02 years, suggesting a moderate duration of customer-bank relationships.\n",
    "\n",
    "3. `Standard Deviation:` With a deviation of about 2.81 years, there's a considerable spread in tenures, indicating diverse lengths of customer relationships.\n",
    "\n",
    "4. `Minimum:` The shortest tenure is 0 years, possibly indicating new customers or very recent relationships.\n",
    "\n",
    "5. `25th Percentile:` A quarter of the customers have been with the bank for 3 years or less.\n",
    "\n",
    "6. `Median (50th Percentile):` The median tenure is 5 years, marking the midpoint of customer loyalty duration.\n",
    "\n",
    "7. `75th Percentile:` Climbing to 7 years, we see a segment of customers demonstrating a longer commitment.\n",
    "\n",
    "8. `Maximum:` The maximum tenure recorded is 10 years, showcasing a decade-long bond between the customers and the bank.\n",
    "\n",
    "---"
   ]
  },
  {
   "cell_type": "markdown",
   "metadata": {},
   "source": [
    "#### **Visual Examination**"
   ]
  },
  {
   "cell_type": "code",
   "execution_count": 525,
   "metadata": {},
   "outputs": [
    {
     "data": {
      "image/png": "[encoded data removed]",
      "text/plain": [
       "<Figure size 1800x600 with 2 Axes>"
      ]
     },
     "metadata": {},
     "output_type": "display_data"
    }
   ],
   "source": [
    "# Plotting the histogram and boxplot for 'Tenure' with the professional color palette\n",
    "fig, ax = plt.subplots(1, 2, figsize=(18, 6))\n",
    "\n",
    "# Histogram\n",
    "sns.histplot(df_train['Tenure'], kde=True, ax=ax[0], color=\"skyblue\")\n",
    "ax[0].set_title('Distribution of Tenures', fontsize=15)\n",
    "ax[0].set_xlabel('Tenure (years)', fontsize=12)\n",
    "ax[0].set_ylabel('Frequency', fontsize=12)\n",
    "\n",
    "# Boxplot\n",
    "sns.boxplot(x=df_train['Tenure'], ax=ax[1], color=\"lightgreen\")\n",
    "ax[1].set_title('Boxplot of Tenures', fontsize=15)\n",
    "ax[1].set_xlabel('Tenure (years)', fontsize=12)\n",
    "\n",
    "# Display the plots with the professional color palette\n",
    "plt.show()\n"
   ]
  },
  {
   "cell_type": "markdown",
   "metadata": {},
   "source": [
    "#### **Clue 3: Tenure - Visual Insights:**\n",
    "\n",
    "---\n",
    "\n",
    "**Observation from Distribution of Tenures (Histogram):**\n",
    "\n",
    "1. The histogram shows a fairly uniform distribution across different tenure lengths, with a slight decrease for the 0 and 10-year tenures.\n",
    "2. This uniform distribution suggests that the bank has a steady inflow of customers and a relatively consistent retention rate across different tenure lengths.\n",
    "\n",
    "**Observation from Boxplot of Tenures:**\n",
    "\n",
    "3. The boxplot confirms a median tenure of 5 years, aligning with our statistical analysis.\n",
    "4. There are no significant outliers in the data, as the tenure lengths range neatly from 0 to 10 years.\n",
    "\n",
    "**`Key takeaway:`**\n",
    "\n",
    "The visual and statistical analysis of Tenure reveals a balanced tenure distribution, suggesting a steady customer-bank relationship dynamic. The tenure lengths are well spread out, indicating a diverse range of relationship durations among the customers.\n",
    "\n",
    "---\n",
    "\n"
   ]
  },
  {
   "cell_type": "markdown",
   "metadata": {},
   "source": [
    "## **Clue 4: Balance**\n",
    "\n",
    "We now focus our investigative lens on the fourth clue: 'Balance'. This numeric variable tells a rich story of a customer's financial stature. It's a tale of wealth, savings, and perhaps the subtleties of spending habits."
   ]
  },
  {
   "cell_type": "code",
   "execution_count": 526,
   "metadata": {},
   "outputs": [
    {
     "data": {
      "text/plain": [
       "30075"
      ]
     },
     "execution_count": 526,
     "metadata": {},
     "output_type": "execute_result"
    }
   ],
   "source": [
    "df_train[\"Balance\"].nunique()"
   ]
  },
  {
   "cell_type": "code",
   "execution_count": 527,
   "metadata": {},
   "outputs": [
    {
     "name": "stdout",
     "output_type": "stream",
     "text": [
      "Max Balance: 250898.09\n",
      "Min Balance: 0.0\n"
     ]
    }
   ],
   "source": [
    "max_balance= df_train[\"Balance\"].max()\n",
    "min_balance= df_train[\"Balance\"].min()\n",
    "print(\"Max Balance:\",max_balance)\n",
    "print(\"Min Balance:\",min_balance)"
   ]
  },
  {
   "cell_type": "code",
   "execution_count": 528,
   "metadata": {},
   "outputs": [
    {
     "data": {
      "text/plain": [
       "count    165034.000000\n",
       "mean      55478.086689\n",
       "std       62817.663278\n",
       "min           0.000000\n",
       "25%           0.000000\n",
       "50%           0.000000\n",
       "75%      119939.517500\n",
       "max      250898.090000\n",
       "Name: Balance, dtype: float64"
      ]
     },
     "execution_count": 528,
     "metadata": {},
     "output_type": "execute_result"
    }
   ],
   "source": [
    "# Statistical Summary of 'Balance'\n",
    "balance_stats = df_train['Balance'].describe()\n",
    "balance_stats\n"
   ]
  },
  {
   "cell_type": "markdown",
   "metadata": {},
   "source": [
    "#### **Clue 4: Balance - Statistical Observations:**\n",
    "\n",
    "--- \n",
    "\n",
    "1. `Count:` The dataset encompasses 165,034 records of customer balances.\n",
    "\n",
    "2. `Mean (Average):` The average balance is about €55,478.09, but this number might be deceptive due to the spread and distribution of balances.\n",
    "\n",
    "3. `Standard Deviation:` A high standard deviation of approximately €62,817.66 indicates a wide range of balances, hinting at significant diversity in financial wealth among customers.\n",
    "\n",
    "4. `Minimum:` The minimum balance is €0.00, possibly indicating customers who have just opened their accounts or prefer to keep their funds elsewhere.\n",
    "\n",
    "5. `25th Percentile:` 25% of the customers have a balance of €0.00, suggesting a substantial segment of customers might not maintain a balance in their accounts.\n",
    "\n",
    "6. `Median (50th Percentile):` The median balance is also €0.00, reinforcing the observation that a significant portion of customers have low or no balance in their accounts.\n",
    "\n",
    "7. `75th Percentile:` Climbing to €119,939.52, we see the upper quartile of customers who hold higher balances, indicating a segment with greater financial holdings.\n",
    "\n",
    "8. `Maximum:` The maximum balance recorded is €250,898.09, showcasing substantial wealth for certain customers."
   ]
  },
  {
   "cell_type": "markdown",
   "metadata": {},
   "source": [
    "#### **Visual Examination**"
   ]
  },
  {
   "cell_type": "code",
   "execution_count": 529,
   "metadata": {},
   "outputs": [
    {
     "data": {
      "image/png": "[encoded data removed]",
      "text/plain": [
       "<Figure size 1800x600 with 2 Axes>"
      ]
     },
     "metadata": {},
     "output_type": "display_data"
    }
   ],
   "source": [
    "# Plotting the histogram and boxplot for 'Balance' with the professional color palette\n",
    "fig, ax = plt.subplots(1, 2, figsize=(18, 6))\n",
    "\n",
    "# Histogram\n",
    "sns.histplot(df_train['Balance'], kde=True, ax=ax[0], color=\"skyblue\")\n",
    "ax[0].set_title('Distribution of Balances', fontsize=15)\n",
    "ax[0].set_xlabel('Balance', fontsize=12)\n",
    "ax[0].set_ylabel('Frequency', fontsize=12)\n",
    "\n",
    "# Boxplot\n",
    "sns.boxplot(x=df_train['Balance'], ax=ax[1], color=\"lightgreen\")\n",
    "ax[1].set_title('Boxplot of Balances', fontsize=15)\n",
    "ax[1].set_xlabel('Balance', fontsize=12)\n",
    "\n",
    "# Display the plots with the professional color palette\n",
    "plt.show()\n"
   ]
  },
  {
   "cell_type": "markdown",
   "metadata": {},
   "source": [
    "#### **Clue 4: Balance - Visual Insights:**\n",
    "\n",
    "---\n",
    "\n",
    "**Observation from Distribution of Balances (Histogram):**\n",
    "\n",
    "1. The histogram shows a notable spike at the $0 balance mark, indicating a substantial number of customers with little to no balance in their accounts.\n",
    "2. Apart from the peak at $0, the distribution of non-zero balances appears somewhat uniform, with a gradual decline as the balance increases.\n",
    "   \n",
    "**Observation from Boxplot of Balances:**\n",
    "\n",
    "3. The boxplot underscores the concentration of lower balances, with the median at $0. The interquartile range starts from $0, stretching to a higher balance, indicating variability among customers who do maintain a balance.\n",
    "\n",
    "\n",
    "**`Key takeaway:`**\n",
    "\n",
    "Given the significant number of customers with a €0 balance, the bank might consider:\n",
    "\n",
    "1. Implement targeted engagement and financial education programs to encourage customers to actively use and maintain balances in their accounts.\n",
    "2. Develop and promote financial products such as attractive savings schemes or investment options tailored to encourage account utilization and cater to the specific needs of this segment.\n",
    "\n",
    "---"
   ]
  },
  {
   "cell_type": "markdown",
   "metadata": {},
   "source": [
    "## **Clue 5: NumOfProducts**\n",
    "\n",
    "How many financial products does each customer use? This clue could reveal how deeply customers are engaged with the bank's offerings."
   ]
  },
  {
   "cell_type": "code",
   "execution_count": 530,
   "metadata": {},
   "outputs": [
    {
     "data": {
      "text/plain": [
       "count    165034.000000\n",
       "mean          1.554455\n",
       "std           0.547154\n",
       "min           1.000000\n",
       "25%           1.000000\n",
       "50%           2.000000\n",
       "75%           2.000000\n",
       "max           4.000000\n",
       "Name: NumOfProducts, dtype: float64"
      ]
     },
     "execution_count": 530,
     "metadata": {},
     "output_type": "execute_result"
    }
   ],
   "source": [
    "# Statistical Summary of 'NumOfProducts'\n",
    "num_of_products_stats = df_train['NumOfProducts'].describe()\n",
    "num_of_products_stats\n"
   ]
  },
  {
   "cell_type": "code",
   "execution_count": 531,
   "metadata": {},
   "outputs": [
    {
     "data": {
      "text/plain": [
       "array([2, 1, 3, 4], dtype=int64)"
      ]
     },
     "execution_count": 531,
     "metadata": {},
     "output_type": "execute_result"
    }
   ],
   "source": [
    "df_train[\"NumOfProducts\"].unique()"
   ]
  },
  {
   "cell_type": "code",
   "execution_count": 532,
   "metadata": {},
   "outputs": [
    {
     "name": "stdout",
     "output_type": "stream",
     "text": [
      "Number of customers with 4 products: 475\n"
     ]
    }
   ],
   "source": [
    "# total number of customers with 4 products\n",
    "num_of_products_4 = df_train[df_train['NumOfProducts'] == 4].shape[0]\n",
    "print('Number of customers with 4 products:', num_of_products_4)"
   ]
  },
  {
   "cell_type": "code",
   "execution_count": 533,
   "metadata": {},
   "outputs": [
    {
     "name": "stdout",
     "output_type": "stream",
     "text": [
      "Number of customers with 0 products: 0\n"
     ]
    }
   ],
   "source": [
    "# total number of customers with 0 products\n",
    "num_of_products_0 = df_train[df_train['NumOfProducts'] == 0].shape[0]\n",
    "print('Number of customers with 0 products:', num_of_products_0)"
   ]
  },
  {
   "cell_type": "markdown",
   "metadata": {},
   "source": [
    "#### **Clue 5: NumOfProducts - Statistical Observations:**\n",
    "\n",
    "--- \n",
    "\n",
    "1. `Count:` The dataset contains records of 165,034 customers, each associated with their number of products.\n",
    "\n",
    "2. `Mean (Average):` On average, customers use about 1.55 products from the bank.\n",
    "\n",
    "3. `Standard Deviation:` With a deviation of about 0.55, there's some variability in the number of products used, but it's relatively low.\n",
    "\n",
    "4. `Minimum:` The minimum number of products used by a customer is 1.\n",
    "\n",
    "5. `25th Percentile:` 25% of the customers use only 1 product, suggesting a significant portion of the customer base prefers simplicity.\n",
    "\n",
    "6. `Median (50th Percentile):` The median number of products is 2, indicating that half of the customers use up to 2 products.\n",
    "\n",
    "7. `75th Percentile:` 75% of customers use 1 or 2 products, reinforcing the trend towards fewer products.\n",
    "\n",
    "8. `Maximum:` The maximum number of products used by a customer is 4, indicating some level of diversification in product usage among certain customers.\n",
    "\n",
    "---"
   ]
  },
  {
   "cell_type": "markdown",
   "metadata": {},
   "source": [
    "#### **Visual Examination**"
   ]
  },
  {
   "cell_type": "code",
   "execution_count": 534,
   "metadata": {},
   "outputs": [
    {
     "data": {
      "image/png": "[encoded data removed]",
      "text/plain": [
       "<Figure size 1800x600 with 2 Axes>"
      ]
     },
     "metadata": {},
     "output_type": "display_data"
    }
   ],
   "source": [
    "# Plotting the histogram and boxplot for 'NumOfProducts' with the professional color palette\n",
    "fig, ax = plt.subplots(1, 2, figsize=(18, 6))\n",
    "\n",
    "# Histogram\n",
    "sns.histplot(df_train['NumOfProducts'], kde=False, ax=ax[0], color=\"skyblue\", bins=4)\n",
    "ax[0].set_title('Distribution of Number of Products', fontsize=15)\n",
    "ax[0].set_xlabel('Number of Products', fontsize=12)\n",
    "ax[0].set_ylabel('Frequency', fontsize=12)\n",
    "ax[0].set_xticks(range(1, 5))  # Set x-ticks to show each product number\n",
    "\n",
    "# Boxplot\n",
    "sns.boxplot(x=df_train['NumOfProducts'], ax=ax[1], color=\"lightgreen\")\n",
    "ax[1].set_title('Boxplot of Number of Products', fontsize=15)\n",
    "ax[1].set_xlabel('Number of Products', fontsize=12)\n",
    "\n",
    "# Display the plots with the professional color palette\n",
    "plt.show()\n"
   ]
  },
  {
   "cell_type": "markdown",
   "metadata": {},
   "source": [
    "#### **Clue 5: NoOfProducts - Visual Insights:**\n",
    "\n",
    "---\n",
    "\n",
    "**Observation from Distribution of NoOfProducts (Histogram):**\n",
    "\n",
    "1. The histogram clearly shows that the majority of customers use 1 or 2 products. The bars for 1 and 2 products are significantly taller than those for 3 and 4 products, underscoring the preference for a limited number of products.\n",
    "2. The number of customers using 3 or 4 products is much lower, indicating these are less common scenarios.\n",
    "\n",
    "**Observation from Boxplot of Number of Products:** \n",
    "\n",
    "3. The boxplot illustrates that the median number of products used by customers is 2.\n",
    "4. There are no outliers in the distribution of NumOfProducts, and the interquartile range is narrow, suggesting most customers fall within a similar range of product usage.\n",
    "\n",
    "**`Key takeaway:`**\n",
    "\n",
    "The concentration of customers using only 1 or 2 products points towards a potential opportunity for the bank to increase product penetration among its customer base.\n",
    "\n",
    "Potential for Cross-Selling: The bank might consider developing targeted cross-selling strategies, perhaps focusing on customers with only 1 product, to encourage the adoption of additional services or products."
   ]
  },
  {
   "cell_type": "markdown",
   "metadata": {},
   "source": [
    "## **Clue 6: HasCrCard**\n",
    "\n",
    "Does the customer have a credit card issued by the bank? This variable might indicate the level of trust and financial integration between the customer and the bank.\n",
    "\n",
    "`HasCrCard` is a binary variable, meaning it takes on two values: 1 (Yes, the customer has a credit card) and 0 (No, the customer does not have a credit card)"
   ]
  },
  {
   "cell_type": "code",
   "execution_count": 535,
   "metadata": {},
   "outputs": [
    {
     "data": {
      "text/plain": [
       "array([1., 0.])"
      ]
     },
     "execution_count": 535,
     "metadata": {},
     "output_type": "execute_result"
    }
   ],
   "source": [
    "df_train[\"HasCrCard\"].unique()"
   ]
  },
  {
   "cell_type": "code",
   "execution_count": 536,
   "metadata": {},
   "outputs": [
    {
     "data": {
      "text/plain": [
       "count    165034.000000\n",
       "mean          0.753954\n",
       "std           0.430707\n",
       "min           0.000000\n",
       "25%           1.000000\n",
       "50%           1.000000\n",
       "75%           1.000000\n",
       "max           1.000000\n",
       "Name: HasCrCard, dtype: float64"
      ]
     },
     "execution_count": 536,
     "metadata": {},
     "output_type": "execute_result"
    }
   ],
   "source": [
    "# Statistical Summary of 'HasCrCard'\n",
    "has_cr_card_stats = df_train['HasCrCard'].describe()\n",
    "has_cr_card_stats"
   ]
  },
  {
   "cell_type": "markdown",
   "metadata": {},
   "source": [
    "#### **Clue 6: HasCrCard - Statistical Observations:**\n",
    "\n",
    "--- \n",
    "\n",
    "Credit Card Ownership: A significant majority, about 75.4% of customers, have a credit card issued by the bank.\n",
    "\n",
    "---"
   ]
  },
  {
   "cell_type": "markdown",
   "metadata": {},
   "source": [
    "#### **Visual Examination**"
   ]
  },
  {
   "cell_type": "code",
   "execution_count": 537,
   "metadata": {},
   "outputs": [
    {
     "data": {
      "image/png": "[encoded data removed]",
      "text/plain": [
       "<Figure size 800x600 with 1 Axes>"
      ]
     },
     "metadata": {},
     "output_type": "display_data"
    }
   ],
   "source": [
    "\n",
    "plt.figure(figsize=(8, 6))\n",
    "sns.countplot(x='HasCrCard', data=df_train, palette=\"coolwarm\")\n",
    "plt.title('Credit Card Ownership Distribution', fontsize=15)\n",
    "plt.xlabel('Has Credit Card (1 = Yes, 0 = No)', fontsize=12)\n",
    "plt.ylabel('Count of Customers', fontsize=12)\n",
    "plt.xticks([0, 1], ['No', 'Yes'])  # Make it clear what 0 and 1 represent\n",
    "plt.show()\n"
   ]
  },
  {
   "cell_type": "markdown",
   "metadata": {},
   "source": [
    "#### **Clue 6: HasCrCard - Visual Insights:**\n",
    "\n",
    "---\n",
    "\n",
    "**High Credit Card Penetration:**\n",
    " \n",
    "The fact that a significant majority of customers have a credit card suggests a high level of trust and integration with the bank's credit services. It reflects the bank's success in cross-selling this product.\n",
    "\n",
    "**Opportunity for Further Engagement:**\n",
    "\n",
    "For customers who don't have a credit card, there might be an opportunity for the bank to engage and understand their needs or hesitations. This could involve reviewing credit card features, fee structures, or promotional offers to make the product more appealing.\n",
    "\n",
    "**Indicator of Financial Activity:**\n",
    "\n",
    "Credit card ownership can be an indicator of financial activity and engagement. Customers with a credit card might be more actively involved with the bank, making them prime candidates for additional services or products.\n",
    "\n",
    "---"
   ]
  },
  {
   "cell_type": "markdown",
   "metadata": {},
   "source": [
    "## **Clue 7: IsActiveMember**\n",
    "\n",
    "`IsActiveMember` is a binary variable, providing insights into the customer's engagement level with the bank. Active members are likely more involved, utilizing the bank's services and possibly contributing more to the bank's success. On the other hand, inactive members might represent untapped potential or indicate areas where the bank could improve its engagement strategies."
   ]
  },
  {
   "cell_type": "code",
   "execution_count": 538,
   "metadata": {},
   "outputs": [
    {
     "data": {
      "text/plain": [
       "array([0., 1.])"
      ]
     },
     "execution_count": 538,
     "metadata": {},
     "output_type": "execute_result"
    }
   ],
   "source": [
    "df_train[\"IsActiveMember\"].unique()"
   ]
  },
  {
   "cell_type": "code",
   "execution_count": 539,
   "metadata": {},
   "outputs": [
    {
     "data": {
      "text/plain": [
       "IsActiveMember\n",
       "0.0    82885\n",
       "1.0    82149\n",
       "Name: count, dtype: int64"
      ]
     },
     "execution_count": 539,
     "metadata": {},
     "output_type": "execute_result"
    }
   ],
   "source": [
    "df_train[\"IsActiveMember\"].value_counts()"
   ]
  },
  {
   "cell_type": "code",
   "execution_count": 540,
   "metadata": {},
   "outputs": [
    {
     "data": {
      "text/plain": [
       "count    165034.000000\n",
       "mean          0.497770\n",
       "std           0.499997\n",
       "min           0.000000\n",
       "25%           0.000000\n",
       "50%           0.000000\n",
       "75%           1.000000\n",
       "max           1.000000\n",
       "Name: IsActiveMember, dtype: float64"
      ]
     },
     "execution_count": 540,
     "metadata": {},
     "output_type": "execute_result"
    }
   ],
   "source": [
    "# Statistical Summary of 'IsActiveMember'\n",
    "is_active_member_stats = df_train['IsActiveMember'].describe()\n",
    "is_active_member_stats"
   ]
  },
  {
   "cell_type": "markdown",
   "metadata": {},
   "source": [
    "#### **Clue 7: IsActiveMember - Statistical Observations:**\n",
    "\n",
    "---\n",
    "\n",
    "1. `Count (165,034):` This is the total number of customers in the dataset we're analyzing.\n",
    "\n",
    "2. `Mean (0.497770):` On average, about 49.78% of the customers are active members. This is close to a 50/50 split, meaning almost half of the customers are considered active.\n",
    "\n",
    "3. `Standard Deviation (0.499997):` This number is close to 0.5 because IsActiveMember is a binary variable (values are only 0 or 1). A high standard deviation here indicates that the number of active and inactive members is nearly the same, contributing to a balanced distribution.\n",
    "\n",
    "4. `Minimum (0):` The lowest value for IsActiveMember is 0, indicating that there are customers who are not active.\n",
    "\n",
    "5. `25th Percentile (0):` 25% of the customers are not active (inactive).\n",
    "\n",
    "6. `50th Percentile (Median) (0):` 50% of the customers (half of them) are inactive. This aligns with the mean, reinforcing that the customers are almost evenly split between active and inactive.\n",
    "\n",
    "7. `75th Percentile (1):` 75% of the customers are at most active, meaning if you pick three customers, two of them might be inactive and one active, or all three could be active.\n",
    "\n",
    "8. `Maximum (1):` The highest value for IsActiveMember is 1, indicating that there are customers who are active.\n",
    "\n",
    "---"
   ]
  },
  {
   "cell_type": "markdown",
   "metadata": {},
   "source": [
    "#### **Visual Examination**"
   ]
  },
  {
   "cell_type": "code",
   "execution_count": 541,
   "metadata": {},
   "outputs": [
    {
     "data": {
      "image/png": "[encoded data removed]",
      "text/plain": [
       "<Figure size 800x600 with 1 Axes>"
      ]
     },
     "metadata": {},
     "output_type": "display_data"
    }
   ],
   "source": [
    "# Bar plot for 'IsActiveMember' with the professional color palette\n",
    "plt.figure(figsize=(8, 6))\n",
    "sns.countplot(x='IsActiveMember', data=df_train, palette=\"coolwarm\")\n",
    "plt.title('Active Member Distribution', fontsize=15)\n",
    "plt.xlabel('Is Active Member (1 = Yes, 0 = No)', fontsize=12)\n",
    "plt.ylabel('Count of Customers', fontsize=12)\n",
    "plt.xticks([0, 1], ['No', 'Yes'])  # Make it clear what 0 and 1 represent\n",
    "plt.show()\n"
   ]
  },
  {
   "cell_type": "markdown",
   "metadata": {},
   "source": [
    "#### **Clue 7: IsActiveMember - Insights:**\n",
    "\n",
    "---\n",
    "`Balanced Engagement Levels:` \n",
    "\n",
    "The nearly equal distribution between active and inactive members suggests a balanced engagement level across the customer base. This balance offers both an opportunity and a challenge for the bank in terms of engagement strategies.\n",
    "\n",
    "`Engagement Opportunities:`\n",
    "\n",
    " For inactive members, the bank might explore strategies to increase engagement. This could involve personalized communication, tailored product offerings, or loyalty programs. Understanding the reasons behind their inactivity could provide valuable insights for these strategies.\n",
    "\n",
    "`Active Member Retention:`\n",
    "\n",
    "Retaining active members could be just as crucial as converting inactive ones. The bank might focus on understanding what keeps these members engaged and ensuring those factors are maintained or enhanced.\n",
    "\n",
    "---"
   ]
  },
  {
   "cell_type": "markdown",
   "metadata": {},
   "source": [
    "## **Clue 8: EstimatedSalary**\n",
    "\n",
    "The EstimatedSalary might subtly hint at the financial muscle and spending power of a customer. A hefty paycheck could mean more capital at play."
   ]
  },
  {
   "cell_type": "code",
   "execution_count": 542,
   "metadata": {},
   "outputs": [
    {
     "data": {
      "text/plain": [
       "55298"
      ]
     },
     "execution_count": 542,
     "metadata": {},
     "output_type": "execute_result"
    }
   ],
   "source": [
    "df_train[\"EstimatedSalary\"].nunique()"
   ]
  },
  {
   "cell_type": "code",
   "execution_count": 543,
   "metadata": {},
   "outputs": [
    {
     "name": "stdout",
     "output_type": "stream",
     "text": [
      "Max Estimated Salary: 199992.48\n",
      "Min Estimated Salary: 11.58\n"
     ]
    }
   ],
   "source": [
    "# max and min of 'EstimatedSalary'\n",
    "max_estimated_salary = df_train['EstimatedSalary'].max()\n",
    "min_estimated_salary = df_train['EstimatedSalary'].min()\n",
    "print('Max Estimated Salary:', max_estimated_salary)\n",
    "print('Min Estimated Salary:', min_estimated_salary)"
   ]
  },
  {
   "cell_type": "code",
   "execution_count": 544,
   "metadata": {},
   "outputs": [
    {
     "data": {
      "text/plain": [
       "count    165034.000000\n",
       "mean     112574.822734\n",
       "std       50292.865585\n",
       "min          11.580000\n",
       "25%       74637.570000\n",
       "50%      117948.000000\n",
       "75%      155152.467500\n",
       "max      199992.480000\n",
       "Name: EstimatedSalary, dtype: float64"
      ]
     },
     "execution_count": 544,
     "metadata": {},
     "output_type": "execute_result"
    }
   ],
   "source": [
    "# statistical summary of 'EstimatedSalary'\n",
    "estimated_salary_stats = df_train['EstimatedSalary'].describe()\n",
    "estimated_salary_stats"
   ]
  },
  {
   "cell_type": "markdown",
   "metadata": {},
   "source": [
    "#### **Clue 8: EstimatedSalary - Statistical Observations:**\n",
    "\n",
    "---\n",
    "\n",
    "1. `Count:` There are 165,034 customers in the dataset, each with an estimated salary figure. This count reflects the total number of salary records we're analyzing.\n",
    "\n",
    "2. `Mean:` On average, the estimated annual salary of the customers is €112,574.82. This average gives us an indication of the general income level of the bank's customer base.\n",
    "\n",
    "3. `Standard Deviation:` The salaries have a standard deviation of €50,292.87, suggesting a wide range of income levels among the customers. A higher standard deviation indicates more variability in the estimated salaries.\n",
    "\n",
    "4. `Minimum Salary:` The lowest estimated salary in the dataset is only €11.58, which might be an anomaly or represent accounts with minimal activity.\n",
    "\n",
    "5. `25th Percentile:` 25% of the customers have an estimated salary of €74,637.57 or less. This gives us a sense of the lower income bracket among the bank's customers.\n",
    "\n",
    "6. `50th Percentile (Median):` The median estimated salary is €117,948.00. This means that half of the customers have estimated salaries below this amount, and half have salaries above it. The median provides a good sense of the 'middle' salary, especially if the salary distribution is skewed.\n",
    "\n",
    "7. `75th Percentile:` 75% of the customers have an estimated salary of €155,152.47 or less. This provides insight into the upper-middle range of incomes among the customers.\n",
    "\n",
    "8. `Maximum Salary:` The highest estimated salary in the dataset is €199,992.48, showcasing the presence of high-income individuals or households among the bank's customers.\n",
    "\n",
    "---"
   ]
  },
  {
   "cell_type": "markdown",
   "metadata": {},
   "source": [
    "#### **Visual Examination**"
   ]
  },
  {
   "cell_type": "code",
   "execution_count": 545,
   "metadata": {},
   "outputs": [
    {
     "data": {
      "image/png": "[encoded data removed]",
      "text/plain": [
       "<Figure size 1800x600 with 2 Axes>"
      ]
     },
     "metadata": {},
     "output_type": "display_data"
    }
   ],
   "source": [
    "fig, ax = plt.subplots(1, 2, figsize=(18, 6))\n",
    "\n",
    "# Histogram for 'EstimatedSalary'\n",
    "sns.histplot(df_train['EstimatedSalary'], kde=True, ax=ax[0], color=\"skyblue\")\n",
    "ax[0].set_title('Distribution of Estimated Salary', fontsize=15)\n",
    "ax[0].set_xlabel('Estimated Salary (€)', fontsize=12)\n",
    "ax[0].set_ylabel('Frequency', fontsize=12)\n",
    "\n",
    "# Boxplot for 'EstimatedSalary'\n",
    "sns.boxplot(x=df_train['EstimatedSalary'], ax=ax[1], color=\"lightgreen\")\n",
    "ax[1].set_title('Boxplot of Estimated Salary', fontsize=15)\n",
    "ax[1].set_xlabel('Estimated Salary (€)', fontsize=12)\n",
    "\n",
    "# Display the plots\n",
    "plt.show()\n"
   ]
  },
  {
   "cell_type": "markdown",
   "metadata": {},
   "source": [
    "#### **Clue 8: Estimated Salary- Visual Insights:**\n",
    "\n",
    "---\n",
    "\n",
    "\n",
    "**Observations from Histogram of Estimated Salary:**\n",
    "\n",
    "1. Given the wide range of salaries and a high standard deviation, we'd expect the histogram to show a broad distribution of salaries across different income brackets.\n",
    "\n",
    "2. With a median close to the mean, there might be a concentration of salaries around the central part of the distribution, indicating that a significant portion of the bank's customers falls into the middle-income bracket.\n",
    "\n",
    "3. Depending on the actual distribution, the histogram might show a relatively uniform spread of salaries or some degree of skewness (either left or right) if there's a tendency towards lower or higher salaries.\n",
    "\n",
    "**Observations from Boxplot of Estimated Salary:**\n",
    "\n",
    "4. The boxplot would clearly show the median salary at €117,948.00 and the interquartile range (from €74,637.57 to €155,152.47). This visually represents the middle 50% of salaries.\n",
    "   \n",
    "5. Given the minimum and maximum values, especially the very low minimum salary of €11.58, the boxplot might display outliers on the lower (and possibly higher) end of the salary spectrum.\n",
    "\n",
    "**`Key takeaway:`**\n",
    "\n",
    "**Potential for Cross-Selling and Upselling:**\n",
    "\n",
    "The presence of customers across various income levels, especially those in the middle-income bracket, may indicate potential for cross-selling and upselling. Tailoring products to meet the specific financial needs and capacities of these customers can lead to increased customer engagement and profitability.\n",
    "\n",
    "---"
   ]
  },
  {
   "cell_type": "markdown",
   "metadata": {},
   "source": [
    "## **Clue 9: Exited**\n",
    "\n",
    "Exited is the most mysterious of them all – the final act of the customer's journey with the bank. Did they leave out of dissatisfaction, a better offer elsewhere, or simply a change in life circumstances?"
   ]
  },
  {
   "cell_type": "code",
   "execution_count": 546,
   "metadata": {},
   "outputs": [
    {
     "data": {
      "text/plain": [
       "array([0, 1], dtype=int64)"
      ]
     },
     "execution_count": 546,
     "metadata": {},
     "output_type": "execute_result"
    }
   ],
   "source": [
    "df_train[\"Exited\"].unique()"
   ]
  },
  {
   "cell_type": "code",
   "execution_count": 547,
   "metadata": {},
   "outputs": [
    {
     "data": {
      "text/plain": [
       "count    165034.000000\n",
       "mean          0.211599\n",
       "std           0.408443\n",
       "min           0.000000\n",
       "25%           0.000000\n",
       "50%           0.000000\n",
       "75%           0.000000\n",
       "max           1.000000\n",
       "Name: Exited, dtype: float64"
      ]
     },
     "execution_count": 547,
     "metadata": {},
     "output_type": "execute_result"
    }
   ],
   "source": [
    "# Statistical Summary of 'Exited'\n",
    "exited_stats = df_train['Exited'].describe()\n",
    "exited_stats"
   ]
  },
  {
   "cell_type": "markdown",
   "metadata": {},
   "source": [
    "#### **Clue 9: Exited - Statistical Observations:**\n",
    "\n",
    "---\n",
    "\n",
    "1. `Mean:` On average, about 21.16% of the customers have exited the bank. This indicates that approximately 1 in 5 customers have churned, which is a significant proportion and highlights the importance of understanding and addressing the factors contributing to customer churn.\n",
    "\n",
    "2. `Standard Deviation:` This is relatively high considering Exited is a binary variable (values are only 0 or 1). It reflects the variance in the churn status among the customers, reinforcing that there's a significant mix of those who have stayed and those who have exited.\n",
    "\n",
    "3. `Minimum (0):` The lowest value for Exited is 0, indicating that there are customers who have stayed with the bank.\n",
    "\n",
    "4. `25th Percentile (0):` 25% of the customers (actually, even more, as indicated by the 50th percentile) have not exited, which aligns with the lower values of this binary variable.\n",
    "\n",
    "5. `50th Percentile (Median) (0):` 50% of the customers (half of them) have not exited. This value is also 0, which along with the mean, indicates that more customers have stayed than exited.\n",
    "\n",
    "6. `75th Percentile (0):` 75% of the customers have not exited. This again highlights that a majority of the customers remain with the bank.\n",
    "\n",
    "7. `Maximum (1):` The highest value for Exited is 1, indicating that some customers have indeed exited the bank.\n",
    "\n",
    "---"
   ]
  },
  {
   "cell_type": "markdown",
   "metadata": {},
   "source": [
    "#### **Visual Examination**"
   ]
  },
  {
   "cell_type": "code",
   "execution_count": 548,
   "metadata": {},
   "outputs": [
    {
     "data": {
      "image/png": "[encoded data removed]",
      "text/plain": [
       "<Figure size 800x600 with 1 Axes>"
      ]
     },
     "metadata": {},
     "output_type": "display_data"
    }
   ],
   "source": [
    "# Bar plot for 'Exited' \n",
    "plt.figure(figsize=(8, 6))\n",
    "sns.countplot(x='Exited', data=df_train, palette=\"coolwarm\")\n",
    "plt.title('Customer Churn Distribution', fontsize=15)\n",
    "plt.xlabel('Exited (1 = Yes, 0 = No)', fontsize=12)\n",
    "plt.ylabel('Count of Customers', fontsize=12)\n",
    "plt.xticks([0, 1], ['No', 'Yes'])  # Make it clear what 0 and 1 represent\n",
    "plt.show()\n"
   ]
  },
  {
   "cell_type": "markdown",
   "metadata": {},
   "source": [
    "#### **Clue 9: Exited - Visual Insights:**\n",
    "\n",
    "---\n",
    "\n",
    "`Seeing Who Stays and Who Leaves:` The bar plot would show two main groups of customers – those who stay with the bank and those who leave. The height of each bar would quickly tell us how many are in each group. We'd expect to see a taller bar for the customers who stay, but also a noticeable bar for those who leave.\n",
    "\n",
    "`Comparing Numbers at a Glance:` The plot would make it easy to see the difference between the number of customers staying and leaving. Even though more customers stay, the plot would show that a good number, about 1 in 5, decide to leave the bank.\n",
    "\n",
    "`Highlighting the Need for Action:` Seeing the actual number of customers leaving, all in one visual, would underline how important it is for the bank to figure out why customers are leaving and to find ways to make more customers happy and willing to stay.\n",
    "\n",
    "---"
   ]
  },
  {
   "cell_type": "markdown",
   "metadata": {},
   "source": [
    "## **Clue 10: Geography**\n",
    "\n",
    "The count of customers in each geographical region would show us where the bank's customers are primarily located. This can reveal regional markets where the bank is particularly strong or areas where it might have growth opportunities."
   ]
  },
  {
   "cell_type": "code",
   "execution_count": 549,
   "metadata": {},
   "outputs": [
    {
     "data": {
      "text/plain": [
       "array(['France', 'Spain', 'Germany'], dtype=object)"
      ]
     },
     "execution_count": 549,
     "metadata": {},
     "output_type": "execute_result"
    }
   ],
   "source": [
    "df_train[\"Geography\"].unique()"
   ]
  },
  {
   "cell_type": "code",
   "execution_count": 550,
   "metadata": {},
   "outputs": [
    {
     "data": {
      "text/plain": [
       "Geography\n",
       "France     94215\n",
       "Spain      36213\n",
       "Germany    34606\n",
       "Name: count, dtype: int64"
      ]
     },
     "execution_count": 550,
     "metadata": {},
     "output_type": "execute_result"
    }
   ],
   "source": [
    "df_train[\"Geography\"].value_counts()"
   ]
  },
  {
   "cell_type": "code",
   "execution_count": 551,
   "metadata": {},
   "outputs": [
    {
     "data": {
      "image/png": "[encoded data removed]",
      "text/plain": [
       "<Figure size 1000x600 with 1 Axes>"
      ]
     },
     "metadata": {},
     "output_type": "display_data"
    }
   ],
   "source": [
    "# Creating a DataFrame for the geography counts\n",
    "geography_counts = pd.DataFrame({\n",
    "    'Geography': ['France', 'Spain', 'Germany'],\n",
    "    'Counts': [94215, 36213, 34606]\n",
    "})\n",
    "\n",
    "# Plotting the distribution of customers across different geographical regions\n",
    "plt.figure(figsize=(10, 6))\n",
    "sns.barplot(x='Geography', y='Counts', data=geography_counts, palette='coolwarm')\n",
    "plt.title('Customer Distribution by Geography', fontsize=15)\n",
    "plt.xlabel('Geography', fontsize=12)\n",
    "plt.ylabel('Number of Customers', fontsize=12)\n",
    "plt.show()\n"
   ]
  },
  {
   "cell_type": "markdown",
   "metadata": {},
   "source": [
    "#### **Clue 10: Geography -Observations:**\n",
    "\n",
    "---\n",
    "**Customer Distribution by Geography:**\n",
    "\n",
    "`France (94,215 Customers):` The bank has the highest number of customers in France. This suggests a strong market presence and potentially a higher brand penetration in the region. The bank's strategies and services seem to resonate well with the French market.\n",
    "\n",
    "`Spain (36,213 Customers):` Spain represents the second-largest customer base for the bank. While the number is significantly lower than in France, it still indicates a substantial presence. The bank might explore what drives this difference between France and Spain, considering cultural, economic, or competitive factors.\n",
    "\n",
    "`Germany (34,606 Customers):` Germany has slightly fewer customers than Spain, making it the region with the smallest customer base among the three. This might point to untapped market potential or the need for tailored strategies to enhance market penetration and customer acquisition in Germany.\n",
    "\n",
    "---\n",
    "\n",
    "**`Key takeaway:`**\n",
    "\n",
    "1. The bank could leverage its strong presence in France to further solidify its position, perhaps by deepening customer relationships or introducing new products. In Spain and Germany, the bank might focus on understanding the market dynamics and customer preferences to tailor its strategies for growth and increased market share.\n",
    "\n",
    "2.  Cultural and economic differences across these regions may influence banking behaviors and product preferences. The bank could benefit from a localized approach, offering region-specific products, services, and marketing campaigns.\n",
    "\n",
    "\n",
    "---"
   ]
  },
  {
   "cell_type": "markdown",
   "metadata": {},
   "source": [
    "## **Clue 11: Gender**\n",
    "\n",
    "Gender might subtly influence the financial narrative. Do the habits and preferences in banking differ in this tale of financial diversity?"
   ]
  },
  {
   "cell_type": "code",
   "execution_count": 552,
   "metadata": {},
   "outputs": [
    {
     "data": {
      "text/plain": [
       "array(['Male', 'Female'], dtype=object)"
      ]
     },
     "execution_count": 552,
     "metadata": {},
     "output_type": "execute_result"
    }
   ],
   "source": [
    "df_train[\"Gender\"].unique()"
   ]
  },
  {
   "cell_type": "code",
   "execution_count": 553,
   "metadata": {},
   "outputs": [
    {
     "data": {
      "text/plain": [
       "Gender\n",
       "Male      93150\n",
       "Female    71884\n",
       "Name: count, dtype: int64"
      ]
     },
     "execution_count": 553,
     "metadata": {},
     "output_type": "execute_result"
    }
   ],
   "source": [
    "df_train[\"Gender\"].value_counts()"
   ]
  },
  {
   "cell_type": "code",
   "execution_count": 554,
   "metadata": {},
   "outputs": [
    {
     "data": {
      "image/png": "[encoded data removed]",
      "text/plain": [
       "<Figure size 800x600 with 1 Axes>"
      ]
     },
     "metadata": {},
     "output_type": "display_data"
    }
   ],
   "source": [
    "# Creating a DataFrame for the gender counts\n",
    "gender_counts = pd.DataFrame({\n",
    "    'Gender': ['Male', 'Female'],\n",
    "    'Counts': [93150, 71884]\n",
    "})\n",
    "\n",
    "# Plotting the distribution of customers by Gender\n",
    "plt.figure(figsize=(8, 6))\n",
    "sns.barplot(x='Gender', y='Counts', data=gender_counts, palette='coolwarm')\n",
    "plt.title('Customer Distribution by Gender', fontsize=15)\n",
    "plt.xlabel('Gender', fontsize=12)\n",
    "plt.ylabel('Number of Customers', fontsize=12)\n",
    "plt.show()\n"
   ]
  },
  {
   "cell_type": "markdown",
   "metadata": {},
   "source": [
    "#### **Concise Insights from Gender Distribution:**\n",
    "\n",
    "`More Male Customers:` \n",
    "The bank has more male customers than female customers. This might suggest reviewing how the bank's services and products appeal to different genders.\n",
    "\n",
    "`Opportunity for Growth:`\n",
    "The lower number of female customers could represent an untapped market. The bank might explore targeted engagement and marketing strategies to attract more female customers.\n",
    "\n",
    "`Tailored Services:`\n",
    "Understanding the specific needs and preferences of male and female customers can help the bank tailor its products and services, ensuring they meet the unique requirements of each gender."
   ]
  },
  {
   "cell_type": "markdown",
   "metadata": {},
   "source": [
    "## **Final Thoughts:** 🤔\n",
    "\n",
    "`Identifiers:`\n",
    "- id and CustomerId are identifiers and won't be used in analysis. However, they should be kept as they may be necessary for identifying records after analysis. 🆔\n",
    "\n",
    "`Categorical Data:`\n",
    "- Geography and Gender are nominal and should be treated as categorical data. 🌍👤\n",
    "\n",
    "- Surname is also nominal but might not be useful for analysis due to its high cardinality (many unique names). 📛\n",
    "\n",
    "`Numerical Data:`\n",
    "- HasCrCard and IsActiveMember are binary (1 or 0). While technically numerical, they represent categorical concepts and could be considered categorical for certain types of analysis. ✔️❌\n",
    "\n",
    "- Exited is our target variable, indicating churn. It's also binary and could be treated as categorical for visualization purposes. ✔️❌"
   ]
  },
  {
   "cell_type": "markdown",
   "metadata": {},
   "source": [
    "# 3. **The Plot Thickens - Preparing for a Cleaner Tale** 🕵️🧽"
   ]
  },
  {
   "cell_type": "markdown",
   "metadata": {},
   "source": [
    "- After a meticulous exploration through the labyrinth of data, our detective story unfolds with every column revealing its secrets. We've traced the footsteps of numerical values, unveiling tales of wealth in 'Balance' and stories of age in 'Tenure'. The categorical characters, from 'Geography' to 'IsActiveMember', have whispered their diverse narratives, each adding depth and color to our investigation.\n",
    "\n",
    "- Now, as our plot thickens, it's time to ensure that the stage is set perfectly for the drama to unfold.\n",
    "\n",
    "Just like a detective makes sure every piece of evidence is clear and useful, we're going to make sure our data is neat and tidy.\n",
    "\n",
    "Here's what we're going to do:\n",
    "\n",
    "1. `No Missing Pieces:` We'll check every corner to make sure no information is missing. Every clue is important for solving our mystery!\n",
    "2. `No Repeats:` We'll make sure there are no copies or repeats. Every piece of data should be unique and tell its own part of the story."
   ]
  },
  {
   "cell_type": "markdown",
   "metadata": {},
   "source": [
    "Cleaning our data is like making sure our detective's toolkit is ready for action. With everything neat and in order, we'll be ready to solve the mystery of our data!\n",
    "\n",
    "`So, let's get started and make our data the best it can be. To the cleaning we go!` 🧹✨"
   ]
  },
  {
   "cell_type": "code",
   "execution_count": 555,
   "metadata": {},
   "outputs": [
    {
     "data": {
      "text/plain": [
       "id                 0\n",
       "CustomerId         0\n",
       "Surname            0\n",
       "CreditScore        0\n",
       "Geography          0\n",
       "Gender             0\n",
       "Age                0\n",
       "Tenure             0\n",
       "Balance            0\n",
       "NumOfProducts      0\n",
       "HasCrCard          0\n",
       "IsActiveMember     0\n",
       "EstimatedSalary    0\n",
       "Exited             0\n",
       "dtype: int64"
      ]
     },
     "execution_count": 555,
     "metadata": {},
     "output_type": "execute_result"
    }
   ],
   "source": [
    "df_isnull = df_train.isnull().sum()\n",
    "df_isnull"
   ]
  },
  {
   "cell_type": "code",
   "execution_count": 556,
   "metadata": {},
   "outputs": [
    {
     "data": {
      "text/plain": [
       "id                 0.0\n",
       "CustomerId         0.0\n",
       "Surname            0.0\n",
       "CreditScore        0.0\n",
       "Geography          0.0\n",
       "Gender             0.0\n",
       "Age                0.0\n",
       "Tenure             0.0\n",
       "Balance            0.0\n",
       "NumOfProducts      0.0\n",
       "HasCrCard          0.0\n",
       "IsActiveMember     0.0\n",
       "EstimatedSalary    0.0\n",
       "Exited             0.0\n",
       "dtype: float64"
      ]
     },
     "execution_count": 556,
     "metadata": {},
     "output_type": "execute_result"
    }
   ],
   "source": [
    "# percentage of missing values in each column\n",
    "\n",
    "df_isnull_percent = df_train.isnull().sum() / len(df_train) * 100\n",
    "df_isnull_percent"
   ]
  },
  {
   "cell_type": "code",
   "execution_count": 557,
   "metadata": {},
   "outputs": [
    {
     "data": {
      "image/png": "[encoded data removed]",
      "text/plain": [
       "<Figure size 1000x600 with 1 Axes>"
      ]
     },
     "metadata": {},
     "output_type": "display_data"
    }
   ],
   "source": [
    "# to visualize the missing values\n",
    "\n",
    "plt.figure(figsize=(10, 6))\n",
    "sns.heatmap(df_train.isnull(), yticklabels=False, cbar=False, cmap='viridis')\n",
    "plt.title('Missing Values in the Dataset', fontsize=15)\n",
    "plt.show()"
   ]
  },
  {
   "cell_type": "code",
   "execution_count": 558,
   "metadata": {},
   "outputs": [
    {
     "data": {
      "text/plain": [
       "0"
      ]
     },
     "execution_count": 558,
     "metadata": {},
     "output_type": "execute_result"
    }
   ],
   "source": [
    "# to see the duplicate values\n",
    "\n",
    "df_train.duplicated().sum()"
   ]
  },
  {
   "cell_type": "markdown",
   "metadata": {},
   "source": [
    "#### **Confirming the Clues** 🔎\n",
    "\n",
    "`Missing Values:`\n",
    "\n",
    "The meticulous check reaffirms our initial observation – no missing values. Every piece of evidence is accounted for. ✅\n",
    "\n",
    "`Duplicate Records:`\n",
    "\n",
    "Our search for duplicates returned zero results. Each record in our dataset is unique, ensuring the integrity of our analysis. ✅"
   ]
  },
  {
   "cell_type": "markdown",
   "metadata": {},
   "source": [
    "# 4. **Machine learning model training** 🚀 \n",
    "## - **Crafting Our Data Detective's Toolkit**"
   ]
  },
  {
   "cell_type": "markdown",
   "metadata": {},
   "source": [
    "- With our data now spick and span, it's time to transition from the role of a meticulous cleaner to that of a masterful craftsman. The stage is set, the clues are polished, and our dataset is ready to reveal its deeper secrets. Now, we enter the exciting phase of model training, where we harness the power of algorithms to sift through the evidence and draw meaningful conclusions."
   ]
  },
  {
   "cell_type": "markdown",
   "metadata": {},
   "source": [
    "**In this chapter, we'll be:**\n",
    "\n",
    "`Choosing the Right Tools:` Just like a detective chooses their tools carefully, we'll select the most suitable machine learning models for our data. Will it be the sharp precision of Decision Trees, the insightful depths of Random Forests, or the intricate patterns recognized by Neural Networks?\n",
    "\n",
    "`Training and Learning:` Our chosen models will learn from our clean and tidy data. This is where they start to understand the patterns and relationships between all our different clues.\n",
    "\n",
    "`Testing Our Insights:` Just as a detective tests their theories, we'll test our models to see how well they've learned. We'll use fresh data that the model hasn't seen before to see how well it can predict and analyze.\n",
    "\n",
    "`Fine-Tuning Our Tools:` A good detective never stops improving. We'll tweak and adjust our models, making sure they're as accurate and insightful as they can be."
   ]
  },
  {
   "cell_type": "markdown",
   "metadata": {},
   "source": [
    "#### So, fellow data detectives, let's begin the process of model training. Our analytical adventure is about to get even more exciting! 🕵️‍♂️💻✨"
   ]
  },
  {
   "cell_type": "markdown",
   "metadata": {},
   "source": [
    "-Label Encoding"
   ]
  },
  {
   "cell_type": "code",
   "execution_count": 559,
   "metadata": {},
   "outputs": [
    {
     "data": {
      "text/html": [
       "<div>\n",
       "<style scoped>\n",
       "    .dataframe tbody tr th:only-of-type {\n",
       "        vertical-align: middle;\n",
       "    }\n",
       "\n",
       "    .dataframe tbody tr th {\n",
       "        vertical-align: top;\n",
       "    }\n",
       "\n",
       "    .dataframe thead th {\n",
       "        text-align: right;\n",
       "    }\n",
       "</style>\n",
       "<table border=\"1\" class=\"dataframe\">\n",
       "  <thead>\n",
       "    <tr style=\"text-align: right;\">\n",
       "      <th></th>\n",
       "      <th>id</th>\n",
       "      <th>CustomerId</th>\n",
       "      <th>Surname</th>\n",
       "      <th>CreditScore</th>\n",
       "      <th>Geography</th>\n",
       "      <th>Gender</th>\n",
       "      <th>Age</th>\n",
       "      <th>Tenure</th>\n",
       "      <th>Balance</th>\n",
       "      <th>NumOfProducts</th>\n",
       "      <th>HasCrCard</th>\n",
       "      <th>IsActiveMember</th>\n",
       "      <th>EstimatedSalary</th>\n",
       "      <th>Exited</th>\n",
       "    </tr>\n",
       "  </thead>\n",
       "  <tbody>\n",
       "    <tr>\n",
       "      <th>0</th>\n",
       "      <td>0</td>\n",
       "      <td>15674932</td>\n",
       "      <td>Okwudilichukwu</td>\n",
       "      <td>668</td>\n",
       "      <td>France</td>\n",
       "      <td>Male</td>\n",
       "      <td>33.0</td>\n",
       "      <td>3</td>\n",
       "      <td>0.00</td>\n",
       "      <td>2</td>\n",
       "      <td>1.0</td>\n",
       "      <td>0.0</td>\n",
       "      <td>181449.97</td>\n",
       "      <td>0</td>\n",
       "    </tr>\n",
       "    <tr>\n",
       "      <th>1</th>\n",
       "      <td>1</td>\n",
       "      <td>15749177</td>\n",
       "      <td>Okwudiliolisa</td>\n",
       "      <td>627</td>\n",
       "      <td>France</td>\n",
       "      <td>Male</td>\n",
       "      <td>33.0</td>\n",
       "      <td>1</td>\n",
       "      <td>0.00</td>\n",
       "      <td>2</td>\n",
       "      <td>1.0</td>\n",
       "      <td>1.0</td>\n",
       "      <td>49503.50</td>\n",
       "      <td>0</td>\n",
       "    </tr>\n",
       "    <tr>\n",
       "      <th>2</th>\n",
       "      <td>2</td>\n",
       "      <td>15694510</td>\n",
       "      <td>Hsueh</td>\n",
       "      <td>678</td>\n",
       "      <td>France</td>\n",
       "      <td>Male</td>\n",
       "      <td>40.0</td>\n",
       "      <td>10</td>\n",
       "      <td>0.00</td>\n",
       "      <td>2</td>\n",
       "      <td>1.0</td>\n",
       "      <td>0.0</td>\n",
       "      <td>184866.69</td>\n",
       "      <td>0</td>\n",
       "    </tr>\n",
       "    <tr>\n",
       "      <th>3</th>\n",
       "      <td>3</td>\n",
       "      <td>15741417</td>\n",
       "      <td>Kao</td>\n",
       "      <td>581</td>\n",
       "      <td>France</td>\n",
       "      <td>Male</td>\n",
       "      <td>34.0</td>\n",
       "      <td>2</td>\n",
       "      <td>148882.54</td>\n",
       "      <td>1</td>\n",
       "      <td>1.0</td>\n",
       "      <td>1.0</td>\n",
       "      <td>84560.88</td>\n",
       "      <td>0</td>\n",
       "    </tr>\n",
       "    <tr>\n",
       "      <th>4</th>\n",
       "      <td>4</td>\n",
       "      <td>15766172</td>\n",
       "      <td>Chiemenam</td>\n",
       "      <td>716</td>\n",
       "      <td>Spain</td>\n",
       "      <td>Male</td>\n",
       "      <td>33.0</td>\n",
       "      <td>5</td>\n",
       "      <td>0.00</td>\n",
       "      <td>2</td>\n",
       "      <td>1.0</td>\n",
       "      <td>1.0</td>\n",
       "      <td>15068.83</td>\n",
       "      <td>0</td>\n",
       "    </tr>\n",
       "  </tbody>\n",
       "</table>\n",
       "</div>"
      ],
      "text/plain": [
       "   id  CustomerId         Surname  CreditScore Geography Gender   Age  Tenure  \\\n",
       "0   0    15674932  Okwudilichukwu          668    France   Male  33.0       3   \n",
       "1   1    15749177   Okwudiliolisa          627    France   Male  33.0       1   \n",
       "2   2    15694510           Hsueh          678    France   Male  40.0      10   \n",
       "3   3    15741417             Kao          581    France   Male  34.0       2   \n",
       "4   4    15766172       Chiemenam          716     Spain   Male  33.0       5   \n",
       "\n",
       "     Balance  NumOfProducts  HasCrCard  IsActiveMember  EstimatedSalary  \\\n",
       "0       0.00              2        1.0             0.0        181449.97   \n",
       "1       0.00              2        1.0             1.0         49503.50   \n",
       "2       0.00              2        1.0             0.0        184866.69   \n",
       "3  148882.54              1        1.0             1.0         84560.88   \n",
       "4       0.00              2        1.0             1.0         15068.83   \n",
       "\n",
       "   Exited  \n",
       "0       0  \n",
       "1       0  \n",
       "2       0  \n",
       "3       0  \n",
       "4       0  "
      ]
     },
     "execution_count": 559,
     "metadata": {},
     "output_type": "execute_result"
    }
   ],
   "source": [
    "df_train.head()"
   ]
  },
  {
   "cell_type": "code",
   "execution_count": 560,
   "metadata": {},
   "outputs": [
    {
     "data": {
      "text/html": [
       "<div>\n",
       "<style scoped>\n",
       "    .dataframe tbody tr th:only-of-type {\n",
       "        vertical-align: middle;\n",
       "    }\n",
       "\n",
       "    .dataframe tbody tr th {\n",
       "        vertical-align: top;\n",
       "    }\n",
       "\n",
       "    .dataframe thead th {\n",
       "        text-align: right;\n",
       "    }\n",
       "</style>\n",
       "<table border=\"1\" class=\"dataframe\">\n",
       "  <thead>\n",
       "    <tr style=\"text-align: right;\">\n",
       "      <th></th>\n",
       "      <th>id</th>\n",
       "      <th>CustomerId</th>\n",
       "      <th>Surname</th>\n",
       "      <th>CreditScore</th>\n",
       "      <th>Geography</th>\n",
       "      <th>Gender</th>\n",
       "      <th>Age</th>\n",
       "      <th>Tenure</th>\n",
       "      <th>Balance</th>\n",
       "      <th>NumOfProducts</th>\n",
       "      <th>HasCrCard</th>\n",
       "      <th>IsActiveMember</th>\n",
       "      <th>EstimatedSalary</th>\n",
       "      <th>Exited</th>\n",
       "    </tr>\n",
       "  </thead>\n",
       "  <tbody>\n",
       "    <tr>\n",
       "      <th>0</th>\n",
       "      <td>0</td>\n",
       "      <td>15674932</td>\n",
       "      <td>1924</td>\n",
       "      <td>668</td>\n",
       "      <td>0</td>\n",
       "      <td>1</td>\n",
       "      <td>33.0</td>\n",
       "      <td>3</td>\n",
       "      <td>0.00</td>\n",
       "      <td>2</td>\n",
       "      <td>1.0</td>\n",
       "      <td>0.0</td>\n",
       "      <td>181449.97</td>\n",
       "      <td>0</td>\n",
       "    </tr>\n",
       "    <tr>\n",
       "      <th>1</th>\n",
       "      <td>1</td>\n",
       "      <td>15749177</td>\n",
       "      <td>1925</td>\n",
       "      <td>627</td>\n",
       "      <td>0</td>\n",
       "      <td>1</td>\n",
       "      <td>33.0</td>\n",
       "      <td>1</td>\n",
       "      <td>0.00</td>\n",
       "      <td>2</td>\n",
       "      <td>1.0</td>\n",
       "      <td>1.0</td>\n",
       "      <td>49503.50</td>\n",
       "      <td>0</td>\n",
       "    </tr>\n",
       "    <tr>\n",
       "      <th>2</th>\n",
       "      <td>2</td>\n",
       "      <td>15694510</td>\n",
       "      <td>1178</td>\n",
       "      <td>678</td>\n",
       "      <td>0</td>\n",
       "      <td>1</td>\n",
       "      <td>40.0</td>\n",
       "      <td>10</td>\n",
       "      <td>0.00</td>\n",
       "      <td>2</td>\n",
       "      <td>1.0</td>\n",
       "      <td>0.0</td>\n",
       "      <td>184866.69</td>\n",
       "      <td>0</td>\n",
       "    </tr>\n",
       "    <tr>\n",
       "      <th>3</th>\n",
       "      <td>3</td>\n",
       "      <td>15741417</td>\n",
       "      <td>1299</td>\n",
       "      <td>581</td>\n",
       "      <td>0</td>\n",
       "      <td>1</td>\n",
       "      <td>34.0</td>\n",
       "      <td>2</td>\n",
       "      <td>148882.54</td>\n",
       "      <td>1</td>\n",
       "      <td>1.0</td>\n",
       "      <td>1.0</td>\n",
       "      <td>84560.88</td>\n",
       "      <td>0</td>\n",
       "    </tr>\n",
       "    <tr>\n",
       "      <th>4</th>\n",
       "      <td>4</td>\n",
       "      <td>15766172</td>\n",
       "      <td>467</td>\n",
       "      <td>716</td>\n",
       "      <td>2</td>\n",
       "      <td>1</td>\n",
       "      <td>33.0</td>\n",
       "      <td>5</td>\n",
       "      <td>0.00</td>\n",
       "      <td>2</td>\n",
       "      <td>1.0</td>\n",
       "      <td>1.0</td>\n",
       "      <td>15068.83</td>\n",
       "      <td>0</td>\n",
       "    </tr>\n",
       "  </tbody>\n",
       "</table>\n",
       "</div>"
      ],
      "text/plain": [
       "   id  CustomerId  Surname  CreditScore  Geography  Gender   Age  Tenure  \\\n",
       "0   0    15674932     1924          668          0       1  33.0       3   \n",
       "1   1    15749177     1925          627          0       1  33.0       1   \n",
       "2   2    15694510     1178          678          0       1  40.0      10   \n",
       "3   3    15741417     1299          581          0       1  34.0       2   \n",
       "4   4    15766172      467          716          2       1  33.0       5   \n",
       "\n",
       "     Balance  NumOfProducts  HasCrCard  IsActiveMember  EstimatedSalary  \\\n",
       "0       0.00              2        1.0             0.0        181449.97   \n",
       "1       0.00              2        1.0             1.0         49503.50   \n",
       "2       0.00              2        1.0             0.0        184866.69   \n",
       "3  148882.54              1        1.0             1.0         84560.88   \n",
       "4       0.00              2        1.0             1.0         15068.83   \n",
       "\n",
       "   Exited  \n",
       "0       0  \n",
       "1       0  \n",
       "2       0  \n",
       "3       0  \n",
       "4       0  "
      ]
     },
     "execution_count": 560,
     "metadata": {},
     "output_type": "execute_result"
    }
   ],
   "source": [
    "# encode the categorical variables using for loop where object and categoy datatypes are given\n",
    "for col in df_train.columns:\n",
    "    if df_train[col].dtype == 'object' or df_train[col].dtype.name == 'category':\n",
    "        df_train[col] = LabelEncoder().fit_transform(df_train[col])\n",
    "df_train.head()"
   ]
  },
  {
   "cell_type": "markdown",
   "metadata": {},
   "source": [
    "- Categorical variables are typically represented as text values. Before we can use them for model training, we need to convert them to numerical values. This process is called label encoding, and it's a crucial step in preparing categorical data for machine learning models."
   ]
  },
  {
   "cell_type": "markdown",
   "metadata": {},
   "source": [
    "### **Target Variable (Exited)**"
   ]
  },
  {
   "cell_type": "code",
   "execution_count": 561,
   "metadata": {},
   "outputs": [
    {
     "data": {
      "text/plain": [
       "array([0, 1], dtype=int64)"
      ]
     },
     "execution_count": 561,
     "metadata": {},
     "output_type": "execute_result"
    }
   ],
   "source": [
    "df_train[\"Exited\"].unique()"
   ]
  },
  {
   "cell_type": "code",
   "execution_count": 562,
   "metadata": {},
   "outputs": [
    {
     "data": {
      "text/html": [
       "<div>\n",
       "<style scoped>\n",
       "    .dataframe tbody tr th:only-of-type {\n",
       "        vertical-align: middle;\n",
       "    }\n",
       "\n",
       "    .dataframe tbody tr th {\n",
       "        vertical-align: top;\n",
       "    }\n",
       "\n",
       "    .dataframe thead th {\n",
       "        text-align: right;\n",
       "    }\n",
       "</style>\n",
       "<table border=\"1\" class=\"dataframe\">\n",
       "  <thead>\n",
       "    <tr style=\"text-align: right;\">\n",
       "      <th></th>\n",
       "      <th>id</th>\n",
       "      <th>CustomerId</th>\n",
       "      <th>Surname</th>\n",
       "      <th>CreditScore</th>\n",
       "      <th>Geography</th>\n",
       "      <th>Gender</th>\n",
       "      <th>Age</th>\n",
       "      <th>Tenure</th>\n",
       "      <th>Balance</th>\n",
       "      <th>NumOfProducts</th>\n",
       "      <th>HasCrCard</th>\n",
       "      <th>IsActiveMember</th>\n",
       "      <th>EstimatedSalary</th>\n",
       "      <th>Exited</th>\n",
       "    </tr>\n",
       "  </thead>\n",
       "  <tbody>\n",
       "    <tr>\n",
       "      <th>0</th>\n",
       "      <td>0</td>\n",
       "      <td>15674932</td>\n",
       "      <td>1924</td>\n",
       "      <td>668</td>\n",
       "      <td>0</td>\n",
       "      <td>1</td>\n",
       "      <td>33.0</td>\n",
       "      <td>3</td>\n",
       "      <td>0.00</td>\n",
       "      <td>2</td>\n",
       "      <td>1.0</td>\n",
       "      <td>0.0</td>\n",
       "      <td>181449.97</td>\n",
       "      <td>0</td>\n",
       "    </tr>\n",
       "    <tr>\n",
       "      <th>1</th>\n",
       "      <td>1</td>\n",
       "      <td>15749177</td>\n",
       "      <td>1925</td>\n",
       "      <td>627</td>\n",
       "      <td>0</td>\n",
       "      <td>1</td>\n",
       "      <td>33.0</td>\n",
       "      <td>1</td>\n",
       "      <td>0.00</td>\n",
       "      <td>2</td>\n",
       "      <td>1.0</td>\n",
       "      <td>1.0</td>\n",
       "      <td>49503.50</td>\n",
       "      <td>0</td>\n",
       "    </tr>\n",
       "    <tr>\n",
       "      <th>2</th>\n",
       "      <td>2</td>\n",
       "      <td>15694510</td>\n",
       "      <td>1178</td>\n",
       "      <td>678</td>\n",
       "      <td>0</td>\n",
       "      <td>1</td>\n",
       "      <td>40.0</td>\n",
       "      <td>10</td>\n",
       "      <td>0.00</td>\n",
       "      <td>2</td>\n",
       "      <td>1.0</td>\n",
       "      <td>0.0</td>\n",
       "      <td>184866.69</td>\n",
       "      <td>0</td>\n",
       "    </tr>\n",
       "    <tr>\n",
       "      <th>3</th>\n",
       "      <td>3</td>\n",
       "      <td>15741417</td>\n",
       "      <td>1299</td>\n",
       "      <td>581</td>\n",
       "      <td>0</td>\n",
       "      <td>1</td>\n",
       "      <td>34.0</td>\n",
       "      <td>2</td>\n",
       "      <td>148882.54</td>\n",
       "      <td>1</td>\n",
       "      <td>1.0</td>\n",
       "      <td>1.0</td>\n",
       "      <td>84560.88</td>\n",
       "      <td>0</td>\n",
       "    </tr>\n",
       "    <tr>\n",
       "      <th>4</th>\n",
       "      <td>4</td>\n",
       "      <td>15766172</td>\n",
       "      <td>467</td>\n",
       "      <td>716</td>\n",
       "      <td>2</td>\n",
       "      <td>1</td>\n",
       "      <td>33.0</td>\n",
       "      <td>5</td>\n",
       "      <td>0.00</td>\n",
       "      <td>2</td>\n",
       "      <td>1.0</td>\n",
       "      <td>1.0</td>\n",
       "      <td>15068.83</td>\n",
       "      <td>0</td>\n",
       "    </tr>\n",
       "  </tbody>\n",
       "</table>\n",
       "</div>"
      ],
      "text/plain": [
       "   id  CustomerId  Surname  CreditScore  Geography  Gender   Age  Tenure  \\\n",
       "0   0    15674932     1924          668          0       1  33.0       3   \n",
       "1   1    15749177     1925          627          0       1  33.0       1   \n",
       "2   2    15694510     1178          678          0       1  40.0      10   \n",
       "3   3    15741417     1299          581          0       1  34.0       2   \n",
       "4   4    15766172      467          716          2       1  33.0       5   \n",
       "\n",
       "     Balance  NumOfProducts  HasCrCard  IsActiveMember  EstimatedSalary  \\\n",
       "0       0.00              2        1.0             0.0        181449.97   \n",
       "1       0.00              2        1.0             1.0         49503.50   \n",
       "2       0.00              2        1.0             0.0        184866.69   \n",
       "3  148882.54              1        1.0             1.0         84560.88   \n",
       "4       0.00              2        1.0             1.0         15068.83   \n",
       "\n",
       "   Exited  \n",
       "0       0  \n",
       "1       0  \n",
       "2       0  \n",
       "3       0  \n",
       "4       0  "
      ]
     },
     "execution_count": 562,
     "metadata": {},
     "output_type": "execute_result"
    }
   ],
   "source": [
    "df_train.head()"
   ]
  },
  {
   "cell_type": "markdown",
   "metadata": {},
   "source": [
    "### **Training the XGBoost Model** 🚀🔎\n",
    "Let's harness the power of XGBoost to bring the hidden truths to light and solve the enigma of customer churn! 🎯💥🌟"
   ]
  },
  {
   "cell_type": "code",
   "execution_count": 563,
   "metadata": {},
   "outputs": [],
   "source": [
    "# train test split\n",
    "X = df_train.drop(['Exited','Surname','CustomerId'] ,axis=1)\n",
    "y = df_train['Exited']\n",
    "\n",
    "# Splitting the data into train and test sets\n",
    "X_train, X_test, y_train, y_test = train_test_split(X, y, test_size=0.2, random_state=42)\n"
   ]
  },
  {
   "cell_type": "code",
   "execution_count": 564,
   "metadata": {},
   "outputs": [
    {
     "name": "stdout",
     "output_type": "stream",
     "text": [
      "Accuracy score:  0.8662404944405732\n",
      "Precision score:  0.8662404944405732\n",
      "Recall score:  0.8662404944405732\n",
      "F1 score:  0.8662404944405732\n"
     ]
    },
    {
     "data": {
      "image/png": "[encoded data removed]",
      "text/plain": [
       "<Figure size 640x480 with 2 Axes>"
      ]
     },
     "metadata": {},
     "output_type": "display_data"
    },
    {
     "name": "stdout",
     "output_type": "stream",
     "text": [
      "CPU times: total: 22.2 s\n",
      "Wall time: 4.06 s\n"
     ]
    }
   ],
   "source": [
    "%%time\n",
    "# train the xgboost mode;\n",
    "xgb = XGBClassifier(n_estimators=500,learning_rate= 0.1,\n",
    "    max_depth=5, random_state=42)\n",
    "\n",
    "# fit the model\n",
    "xgb.fit(X_train, y_train)\n",
    "\n",
    "# predict the test data\n",
    "y_pred = xgb.predict(X_test)\n",
    "\n",
    "print('Accuracy score: ', accuracy_score(y_test, y_pred))\n",
    "print('Precision score: ', precision_score(y_test, y_pred, average='micro'))\n",
    "print('Recall score: ', recall_score(y_test, y_pred, average='micro'))\n",
    "print('F1 score: ', f1_score(y_test, y_pred, average='micro'))\n",
    "\n",
    "# plot the confusion matrix\n",
    "from sklearn.metrics import confusion_matrix\n",
    "cm = confusion_matrix(y_test, y_pred)\n",
    "sns.heatmap(cm, annot=True, fmt='d')\n",
    "plt.xlabel('Predicted')\n",
    "plt.ylabel('True')\n",
    "plt.show()"
   ]
  },
  {
   "cell_type": "code",
   "execution_count": 573,
   "metadata": {},
   "outputs": [],
   "source": [
    "from sklearn.preprocessing import LabelEncoder\n",
    "\n",
    "# Convert categorical columns to numerical values\n",
    "le = LabelEncoder()\n",
    "df_test['Geography'] = le.fit_transform(df_test['Geography'])\n",
    "df_test['Gender'] = le.fit_transform(df_test['Gender'])\n",
    "\n",
    "# predict the test data and create the submission file\n",
    "y_pred = xgb.predict(df_test.drop(['Surname','CustomerId'],axis=1))\n",
    "submission['Exited'] = y_pred\n",
    "submission.to_csv('submission.csv', index=False)"
   ]
  },
  {
   "cell_type": "markdown",
   "metadata": {},
   "source": [
    "---"
   ]
  },
  {
   "cell_type": "markdown",
   "metadata": {},
   "source": [
    "#  **Conclusion** 📝"
   ]
  },
  {
   "cell_type": "markdown",
   "metadata": {},
   "source": [
    "##### **I know you all are excited to know the conclusion of this case study. So, let's see what we have found from this case study.**\n",
    "\n",
    "Drumroll, please! 🥁🥁🥁"
   ]
  },
  {
   "cell_type": "markdown",
   "metadata": {},
   "source": [
    "### **🕵️ Key Clues Unearthed:**"
   ]
  },
  {
   "cell_type": "markdown",
   "metadata": {},
   "source": [
    "In our detective quest to understand why customers are leaving the bank, we've uncovered some vital clues and plotted some smart moves to keep them:\n",
    "\n",
    "`Age & Location:` Both the young and the old, and folks from certain places, seem to be slipping away.\n",
    "\n",
    "`Account Matters:` People with really low or really high bank balances, and those juggling too few or too many bank products, often decide to leave.\n",
    "\n",
    "`Activity Signs:` Customers who don't use their accounts much or avoid the bank's credit card might not be feeling too attached to the bank.\n",
    "\n",
    "`Service Signals:` A lot of calls for help or unresolved issues can make customers unhappy and more likely to say goodbye.\n",
    "\n",
    "`Tech Touch:` Customers who don't use online banking or the mobile app might be missing out on the bank's best features.\n",
    "\n"
   ]
  },
  {
   "cell_type": "markdown",
   "metadata": {},
   "source": [
    "### **📜 Strategic Scrolls for Retention**"
   ]
  },
  {
   "cell_type": "markdown",
   "metadata": {},
   "source": [
    "And here's how we're planning to turn things around:\n",
    "\n",
    "`Get Personal:` Use what we know about our customers to give them offers and services that feel just right for them.\n",
    "\n",
    "`Say Thanks:` Show our long-term customers some love with rewards to make them stick around.\n",
    "\n",
    "`Make It Fit`: Let customers pick and mix their banking services so everything feels just right.\n",
    "\n",
    "`Tech Touch`: Make our online banking smooth, easy, and a joy to use.\n",
    "\n",
    "`Be There:` Keep an eye on customers who might leave and be ready to help them before they go.\n",
    "\n",
    "`Listen Well:` Regularly ask for feedback and really use it to make things better.\n",
    "\n",
    "`Know the Game:` Keep an eye on what other banks are doing, so we're always one step ahead.\n",
    "\n",
    "These moves are our master plan to keep our bank family close and happy. 🕵️‍♂️✨"
   ]
  },
  {
   "cell_type": "markdown",
   "metadata": {},
   "source": [
    "In our detective tale, these insights and strategies are the torchlights in the fog, guiding the way to a future where every customer feels like a cherished part of the story. 🕵️✨"
   ]
  }
 ],
 "metadata": {
  "kernelspec": {
   "display_name": "tf_env",
   "language": "python",
   "name": "python3"
  },
  "language_info": {
   "codemirror_mode": {
    "name": "ipython",
    "version": 3
   },
   "file_extension": ".py",
   "mimetype": "text/x-python",
   "name": "python",
   "nbconvert_exporter": "python",
   "pygments_lexer": "ipython3",
   "version": "3.8.18"
  }
 },
 "nbformat": 4,
 "nbformat_minor": 2
}
