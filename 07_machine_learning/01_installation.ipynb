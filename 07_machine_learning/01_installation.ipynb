{
 "cells": [
  {
   "cell_type": "markdown",
   "metadata": {},
   "source": [
    "# Steps: \n",
    "1. Creata a new conda environment `python_ml`\n",
    "2. install the following packages:\n",
    "   1. python conda install python\n",
    "      1. pandas\n",
    "      2. numpy\n",
    "      3. matplotlib\n",
    "      4. seaborn\n",
    "      5. scipy\n",
    "      6. scikit-learn\n",
    "      7. jupyter\n",
    "      8. openpyxl\n",
    "      9. plotly\n",
    "\n",
    "\n",
    "pip install pandas numpy matplotlib seaborn scipy scikit-learn jupyter openpyxl plotly\n"
   ]
  },
  {
   "cell_type": "code",
   "execution_count": null,
   "metadata": {
    "vscode": {
     "languageId": "plaintext"
    }
   },
   "outputs": [],
   "source": [
    "import pandas as pd\n",
    "import numpy as np \n",
    "import matplotlib.pyplot as plt \n",
    "import seaborn as sns\n",
    "\n",
    "from sklearn import linear_model\n",
    "reg = linear_model.LinearRegression()\n",
    "reg.fit([[0, 0], [1, 1], [2, 2]], [0, 1, 2])\n",
    "reg.coef_"
   ]
  }
 ],
 "metadata": {
  "language_info": {
   "name": "python"
  }
 },
 "nbformat": 4,
 "nbformat_minor": 2
}
